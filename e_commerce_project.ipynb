{
 "cells": [
  {
   "cell_type": "code",
   "execution_count": 1,
   "metadata": {
    "pycharm": {
     "name": "#%%\n"
    }
   },
   "outputs": [],
   "source": [
    "import pandas as pd\n",
    "import numpy as np\n",
    "from datetime import timedelta\n",
    "import seaborn as sns\n",
    "import matplotlib.pyplot as plt\n",
    "%matplotlib inline"
   ]
  },
  {
   "cell_type": "code",
   "execution_count": 2,
   "metadata": {
    "pycharm": {
     "name": "#%%\n"
    }
   },
   "outputs": [],
   "source": [
    "customers = pd.read_csv('olist_customers_dataset.csv')\n",
    "orders = pd.read_csv('olist_orders_dataset.csv')\n",
    "items = pd.read_csv('olist_order_items_dataset.csv')"
   ]
  },
  {
   "cell_type": "markdown",
   "metadata": {
    "pycharm": {
     "name": "#%% md\n"
    }
   },
   "source": [
    "### EDA"
   ]
  },
  {
   "cell_type": "markdown",
   "metadata": {
    "pycharm": {
     "name": "#%% md\n"
    }
   },
   "source": [
    "Посмотрим на типы данных, посчитаем пропуски в данных, посмотрим на количество уникальных значений в таблицах customers, orders, items."
   ]
  },
  {
   "cell_type": "markdown",
   "metadata": {
    "pycharm": {
     "name": "#%% md\n"
    }
   },
   "source": [
    "#### customers — таблица с уникальными идентификаторами пользователей\n",
    "* customer_id — позаказный идентификатор пользователя\n",
    "\n",
    "* customer_unique_id —  уникальный идентификатор пользователя  (аналог номера паспорта)\n",
    "\n",
    "* customer_zip_code_prefix —  почтовый индекс пользователя\n",
    "\n",
    "* customer_city —  город доставки пользователя\n",
    "\n",
    "* customer_state —  штат доставки пользователя"
   ]
  },
  {
   "cell_type": "code",
   "execution_count": 3,
   "metadata": {
    "pycharm": {
     "name": "#%%\n"
    }
   },
   "outputs": [
    {
     "data": {
      "text/html": [
       "<div>\n",
       "<style scoped>\n",
       "    .dataframe tbody tr th:only-of-type {\n",
       "        vertical-align: middle;\n",
       "    }\n",
       "\n",
       "    .dataframe tbody tr th {\n",
       "        vertical-align: top;\n",
       "    }\n",
       "\n",
       "    .dataframe thead th {\n",
       "        text-align: right;\n",
       "    }\n",
       "</style>\n",
       "<table border=\"1\" class=\"dataframe\">\n",
       "  <thead>\n",
       "    <tr style=\"text-align: right;\">\n",
       "      <th></th>\n",
       "      <th>customer_id</th>\n",
       "      <th>customer_unique_id</th>\n",
       "      <th>customer_zip_code_prefix</th>\n",
       "      <th>customer_city</th>\n",
       "      <th>customer_state</th>\n",
       "    </tr>\n",
       "  </thead>\n",
       "  <tbody>\n",
       "    <tr>\n",
       "      <th>0</th>\n",
       "      <td>06b8999e2fba1a1fbc88172c00ba8bc7</td>\n",
       "      <td>861eff4711a542e4b93843c6dd7febb0</td>\n",
       "      <td>14409</td>\n",
       "      <td>franca</td>\n",
       "      <td>SP</td>\n",
       "    </tr>\n",
       "    <tr>\n",
       "      <th>1</th>\n",
       "      <td>18955e83d337fd6b2def6b18a428ac77</td>\n",
       "      <td>290c77bc529b7ac935b93aa66c333dc3</td>\n",
       "      <td>9790</td>\n",
       "      <td>sao bernardo do campo</td>\n",
       "      <td>SP</td>\n",
       "    </tr>\n",
       "    <tr>\n",
       "      <th>2</th>\n",
       "      <td>4e7b3e00288586ebd08712fdd0374a03</td>\n",
       "      <td>060e732b5b29e8181a18229c7b0b2b5e</td>\n",
       "      <td>1151</td>\n",
       "      <td>sao paulo</td>\n",
       "      <td>SP</td>\n",
       "    </tr>\n",
       "    <tr>\n",
       "      <th>3</th>\n",
       "      <td>b2b6027bc5c5109e529d4dc6358b12c3</td>\n",
       "      <td>259dac757896d24d7702b9acbbff3f3c</td>\n",
       "      <td>8775</td>\n",
       "      <td>mogi das cruzes</td>\n",
       "      <td>SP</td>\n",
       "    </tr>\n",
       "    <tr>\n",
       "      <th>4</th>\n",
       "      <td>4f2d8ab171c80ec8364f7c12e35b23ad</td>\n",
       "      <td>345ecd01c38d18a9036ed96c73b8d066</td>\n",
       "      <td>13056</td>\n",
       "      <td>campinas</td>\n",
       "      <td>SP</td>\n",
       "    </tr>\n",
       "  </tbody>\n",
       "</table>\n",
       "</div>"
      ],
      "text/plain": [
       "                        customer_id                customer_unique_id  \\\n",
       "0  06b8999e2fba1a1fbc88172c00ba8bc7  861eff4711a542e4b93843c6dd7febb0   \n",
       "1  18955e83d337fd6b2def6b18a428ac77  290c77bc529b7ac935b93aa66c333dc3   \n",
       "2  4e7b3e00288586ebd08712fdd0374a03  060e732b5b29e8181a18229c7b0b2b5e   \n",
       "3  b2b6027bc5c5109e529d4dc6358b12c3  259dac757896d24d7702b9acbbff3f3c   \n",
       "4  4f2d8ab171c80ec8364f7c12e35b23ad  345ecd01c38d18a9036ed96c73b8d066   \n",
       "\n",
       "   customer_zip_code_prefix          customer_city customer_state  \n",
       "0                     14409                 franca             SP  \n",
       "1                      9790  sao bernardo do campo             SP  \n",
       "2                      1151              sao paulo             SP  \n",
       "3                      8775        mogi das cruzes             SP  \n",
       "4                     13056               campinas             SP  "
      ]
     },
     "execution_count": 3,
     "metadata": {},
     "output_type": "execute_result"
    }
   ],
   "source": [
    "customers.head()"
   ]
  },
  {
   "cell_type": "code",
   "execution_count": 4,
   "metadata": {
    "pycharm": {
     "name": "#%%\n"
    }
   },
   "outputs": [
    {
     "name": "stdout",
     "output_type": "stream",
     "text": [
      "<class 'pandas.core.frame.DataFrame'>\n",
      "RangeIndex: 99441 entries, 0 to 99440\n",
      "Data columns (total 5 columns):\n",
      " #   Column                    Non-Null Count  Dtype \n",
      "---  ------                    --------------  ----- \n",
      " 0   customer_id               99441 non-null  object\n",
      " 1   customer_unique_id        99441 non-null  object\n",
      " 2   customer_zip_code_prefix  99441 non-null  int64 \n",
      " 3   customer_city             99441 non-null  object\n",
      " 4   customer_state            99441 non-null  object\n",
      "dtypes: int64(1), object(4)\n",
      "memory usage: 3.8+ MB\n"
     ]
    }
   ],
   "source": [
    "customers.info()"
   ]
  },
  {
   "cell_type": "code",
   "execution_count": 5,
   "metadata": {
    "pycharm": {
     "name": "#%%\n"
    }
   },
   "outputs": [
    {
     "data": {
      "text/html": [
       "<div>\n",
       "<style scoped>\n",
       "    .dataframe tbody tr th:only-of-type {\n",
       "        vertical-align: middle;\n",
       "    }\n",
       "\n",
       "    .dataframe tbody tr th {\n",
       "        vertical-align: top;\n",
       "    }\n",
       "\n",
       "    .dataframe thead th {\n",
       "        text-align: right;\n",
       "    }\n",
       "</style>\n",
       "<table border=\"1\" class=\"dataframe\">\n",
       "  <thead>\n",
       "    <tr style=\"text-align: right;\">\n",
       "      <th></th>\n",
       "      <th>0</th>\n",
       "    </tr>\n",
       "  </thead>\n",
       "  <tbody>\n",
       "    <tr>\n",
       "      <th>customer_id</th>\n",
       "      <td>0</td>\n",
       "    </tr>\n",
       "    <tr>\n",
       "      <th>customer_unique_id</th>\n",
       "      <td>0</td>\n",
       "    </tr>\n",
       "    <tr>\n",
       "      <th>customer_zip_code_prefix</th>\n",
       "      <td>0</td>\n",
       "    </tr>\n",
       "    <tr>\n",
       "      <th>customer_city</th>\n",
       "      <td>0</td>\n",
       "    </tr>\n",
       "    <tr>\n",
       "      <th>customer_state</th>\n",
       "      <td>0</td>\n",
       "    </tr>\n",
       "  </tbody>\n",
       "</table>\n",
       "</div>"
      ],
      "text/plain": [
       "                          0\n",
       "customer_id               0\n",
       "customer_unique_id        0\n",
       "customer_zip_code_prefix  0\n",
       "customer_city             0\n",
       "customer_state            0"
      ]
     },
     "execution_count": 5,
     "metadata": {},
     "output_type": "execute_result"
    }
   ],
   "source": [
    "customers.isna().sum().to_frame()"
   ]
  },
  {
   "cell_type": "code",
   "execution_count": 6,
   "metadata": {
    "pycharm": {
     "name": "#%%\n"
    }
   },
   "outputs": [
    {
     "data": {
      "text/html": [
       "<div>\n",
       "<style scoped>\n",
       "    .dataframe tbody tr th:only-of-type {\n",
       "        vertical-align: middle;\n",
       "    }\n",
       "\n",
       "    .dataframe tbody tr th {\n",
       "        vertical-align: top;\n",
       "    }\n",
       "\n",
       "    .dataframe thead th {\n",
       "        text-align: right;\n",
       "    }\n",
       "</style>\n",
       "<table border=\"1\" class=\"dataframe\">\n",
       "  <thead>\n",
       "    <tr style=\"text-align: right;\">\n",
       "      <th></th>\n",
       "      <th>0</th>\n",
       "    </tr>\n",
       "  </thead>\n",
       "  <tbody>\n",
       "    <tr>\n",
       "      <th>customer_id</th>\n",
       "      <td>99441</td>\n",
       "    </tr>\n",
       "    <tr>\n",
       "      <th>customer_unique_id</th>\n",
       "      <td>96096</td>\n",
       "    </tr>\n",
       "    <tr>\n",
       "      <th>customer_zip_code_prefix</th>\n",
       "      <td>14994</td>\n",
       "    </tr>\n",
       "    <tr>\n",
       "      <th>customer_city</th>\n",
       "      <td>4119</td>\n",
       "    </tr>\n",
       "    <tr>\n",
       "      <th>customer_state</th>\n",
       "      <td>27</td>\n",
       "    </tr>\n",
       "  </tbody>\n",
       "</table>\n",
       "</div>"
      ],
      "text/plain": [
       "                              0\n",
       "customer_id               99441\n",
       "customer_unique_id        96096\n",
       "customer_zip_code_prefix  14994\n",
       "customer_city              4119\n",
       "customer_state               27"
      ]
     },
     "execution_count": 6,
     "metadata": {},
     "output_type": "execute_result"
    }
   ],
   "source": [
    "customers.nunique().to_frame()"
   ]
  },
  {
   "cell_type": "markdown",
   "metadata": {
    "pycharm": {
     "name": "#%% md\n"
    }
   },
   "source": [
    "#### orders —  таблица заказов\n",
    "* order_id —  уникальный идентификатор заказа (номер чека)\n",
    "\n",
    "* customer_id —  позаказный идентификатор пользователя\n",
    "\n",
    "* order_status —  статус заказа\n",
    "\n",
    "* order_purchase_timestamp —  время создания заказа\n",
    "\n",
    "* order_approved_at —  время подтверждения оплаты заказа\n",
    "\n",
    "* order_delivered_carrier_date —  время передачи заказа в логистическую службу\n",
    "\n",
    "* order_delivered_customer_date —  время доставки заказа\n",
    "\n",
    "* order_estimated_delivery_date —  обещанная дата доставки"
   ]
  },
  {
   "cell_type": "code",
   "execution_count": 7,
   "metadata": {
    "pycharm": {
     "name": "#%%\n"
    }
   },
   "outputs": [
    {
     "data": {
      "text/html": [
       "<div>\n",
       "<style scoped>\n",
       "    .dataframe tbody tr th:only-of-type {\n",
       "        vertical-align: middle;\n",
       "    }\n",
       "\n",
       "    .dataframe tbody tr th {\n",
       "        vertical-align: top;\n",
       "    }\n",
       "\n",
       "    .dataframe thead th {\n",
       "        text-align: right;\n",
       "    }\n",
       "</style>\n",
       "<table border=\"1\" class=\"dataframe\">\n",
       "  <thead>\n",
       "    <tr style=\"text-align: right;\">\n",
       "      <th></th>\n",
       "      <th>order_id</th>\n",
       "      <th>customer_id</th>\n",
       "      <th>order_status</th>\n",
       "      <th>order_purchase_timestamp</th>\n",
       "      <th>order_approved_at</th>\n",
       "      <th>order_delivered_carrier_date</th>\n",
       "      <th>order_delivered_customer_date</th>\n",
       "      <th>order_estimated_delivery_date</th>\n",
       "    </tr>\n",
       "  </thead>\n",
       "  <tbody>\n",
       "    <tr>\n",
       "      <th>0</th>\n",
       "      <td>e481f51cbdc54678b7cc49136f2d6af7</td>\n",
       "      <td>9ef432eb6251297304e76186b10a928d</td>\n",
       "      <td>delivered</td>\n",
       "      <td>2017-10-02 10:56:33</td>\n",
       "      <td>2017-10-02 11:07:15</td>\n",
       "      <td>2017-10-04 19:55:00</td>\n",
       "      <td>2017-10-10 21:25:13</td>\n",
       "      <td>2017-10-18 00:00:00</td>\n",
       "    </tr>\n",
       "    <tr>\n",
       "      <th>1</th>\n",
       "      <td>53cdb2fc8bc7dce0b6741e2150273451</td>\n",
       "      <td>b0830fb4747a6c6d20dea0b8c802d7ef</td>\n",
       "      <td>delivered</td>\n",
       "      <td>2018-07-24 20:41:37</td>\n",
       "      <td>2018-07-26 03:24:27</td>\n",
       "      <td>2018-07-26 14:31:00</td>\n",
       "      <td>2018-08-07 15:27:45</td>\n",
       "      <td>2018-08-13 00:00:00</td>\n",
       "    </tr>\n",
       "    <tr>\n",
       "      <th>2</th>\n",
       "      <td>47770eb9100c2d0c44946d9cf07ec65d</td>\n",
       "      <td>41ce2a54c0b03bf3443c3d931a367089</td>\n",
       "      <td>delivered</td>\n",
       "      <td>2018-08-08 08:38:49</td>\n",
       "      <td>2018-08-08 08:55:23</td>\n",
       "      <td>2018-08-08 13:50:00</td>\n",
       "      <td>2018-08-17 18:06:29</td>\n",
       "      <td>2018-09-04 00:00:00</td>\n",
       "    </tr>\n",
       "    <tr>\n",
       "      <th>3</th>\n",
       "      <td>949d5b44dbf5de918fe9c16f97b45f8a</td>\n",
       "      <td>f88197465ea7920adcdbec7375364d82</td>\n",
       "      <td>delivered</td>\n",
       "      <td>2017-11-18 19:28:06</td>\n",
       "      <td>2017-11-18 19:45:59</td>\n",
       "      <td>2017-11-22 13:39:59</td>\n",
       "      <td>2017-12-02 00:28:42</td>\n",
       "      <td>2017-12-15 00:00:00</td>\n",
       "    </tr>\n",
       "    <tr>\n",
       "      <th>4</th>\n",
       "      <td>ad21c59c0840e6cb83a9ceb5573f8159</td>\n",
       "      <td>8ab97904e6daea8866dbdbc4fb7aad2c</td>\n",
       "      <td>delivered</td>\n",
       "      <td>2018-02-13 21:18:39</td>\n",
       "      <td>2018-02-13 22:20:29</td>\n",
       "      <td>2018-02-14 19:46:34</td>\n",
       "      <td>2018-02-16 18:17:02</td>\n",
       "      <td>2018-02-26 00:00:00</td>\n",
       "    </tr>\n",
       "  </tbody>\n",
       "</table>\n",
       "</div>"
      ],
      "text/plain": [
       "                           order_id                       customer_id  \\\n",
       "0  e481f51cbdc54678b7cc49136f2d6af7  9ef432eb6251297304e76186b10a928d   \n",
       "1  53cdb2fc8bc7dce0b6741e2150273451  b0830fb4747a6c6d20dea0b8c802d7ef   \n",
       "2  47770eb9100c2d0c44946d9cf07ec65d  41ce2a54c0b03bf3443c3d931a367089   \n",
       "3  949d5b44dbf5de918fe9c16f97b45f8a  f88197465ea7920adcdbec7375364d82   \n",
       "4  ad21c59c0840e6cb83a9ceb5573f8159  8ab97904e6daea8866dbdbc4fb7aad2c   \n",
       "\n",
       "  order_status order_purchase_timestamp    order_approved_at  \\\n",
       "0    delivered      2017-10-02 10:56:33  2017-10-02 11:07:15   \n",
       "1    delivered      2018-07-24 20:41:37  2018-07-26 03:24:27   \n",
       "2    delivered      2018-08-08 08:38:49  2018-08-08 08:55:23   \n",
       "3    delivered      2017-11-18 19:28:06  2017-11-18 19:45:59   \n",
       "4    delivered      2018-02-13 21:18:39  2018-02-13 22:20:29   \n",
       "\n",
       "  order_delivered_carrier_date order_delivered_customer_date  \\\n",
       "0          2017-10-04 19:55:00           2017-10-10 21:25:13   \n",
       "1          2018-07-26 14:31:00           2018-08-07 15:27:45   \n",
       "2          2018-08-08 13:50:00           2018-08-17 18:06:29   \n",
       "3          2017-11-22 13:39:59           2017-12-02 00:28:42   \n",
       "4          2018-02-14 19:46:34           2018-02-16 18:17:02   \n",
       "\n",
       "  order_estimated_delivery_date  \n",
       "0           2017-10-18 00:00:00  \n",
       "1           2018-08-13 00:00:00  \n",
       "2           2018-09-04 00:00:00  \n",
       "3           2017-12-15 00:00:00  \n",
       "4           2018-02-26 00:00:00  "
      ]
     },
     "execution_count": 7,
     "metadata": {},
     "output_type": "execute_result"
    }
   ],
   "source": [
    "orders.head()"
   ]
  },
  {
   "cell_type": "code",
   "execution_count": 8,
   "metadata": {
    "pycharm": {
     "name": "#%%\n"
    },
    "scrolled": true
   },
   "outputs": [
    {
     "name": "stdout",
     "output_type": "stream",
     "text": [
      "<class 'pandas.core.frame.DataFrame'>\n",
      "RangeIndex: 99441 entries, 0 to 99440\n",
      "Data columns (total 8 columns):\n",
      " #   Column                         Non-Null Count  Dtype \n",
      "---  ------                         --------------  ----- \n",
      " 0   order_id                       99441 non-null  object\n",
      " 1   customer_id                    99441 non-null  object\n",
      " 2   order_status                   99441 non-null  object\n",
      " 3   order_purchase_timestamp       99441 non-null  object\n",
      " 4   order_approved_at              99281 non-null  object\n",
      " 5   order_delivered_carrier_date   97658 non-null  object\n",
      " 6   order_delivered_customer_date  96476 non-null  object\n",
      " 7   order_estimated_delivery_date  99441 non-null  object\n",
      "dtypes: object(8)\n",
      "memory usage: 6.1+ MB\n"
     ]
    }
   ],
   "source": [
    "orders.info()"
   ]
  },
  {
   "cell_type": "markdown",
   "metadata": {
    "pycharm": {
     "name": "#%% md\n"
    }
   },
   "source": [
    "#### Уникальные статусы заказов в таблице orders:\n",
    "\n",
    "* created —  создан\n",
    "* approved —  подтверждён\n",
    "* invoiced —  выставлен счёт\n",
    "* processing —  в процессе сборки заказа\n",
    "* shipped —  отгружен со склада\n",
    "* delivered —  доставлен пользователю\n",
    "* unavailable —  недоступен\n",
    "* canceled —  отменён"
   ]
  },
  {
   "cell_type": "code",
   "execution_count": 9,
   "metadata": {
    "pycharm": {
     "name": "#%%\n"
    }
   },
   "outputs": [],
   "source": [
    "columns = ['order_purchase_timestamp', 'order_approved_at', 'order_delivered_carrier_date',\\\n",
    "           'order_delivered_customer_date', 'order_estimated_delivery_date']\n",
    "\n",
    "orders[columns] = orders[columns].apply(lambda x: pd.to_datetime(x, format=('%Y-%m-%d')))"
   ]
  },
  {
   "cell_type": "code",
   "execution_count": 10,
   "metadata": {
    "pycharm": {
     "name": "#%%\n"
    },
    "scrolled": true
   },
   "outputs": [
    {
     "data": {
      "text/html": [
       "<div>\n",
       "<style scoped>\n",
       "    .dataframe tbody tr th:only-of-type {\n",
       "        vertical-align: middle;\n",
       "    }\n",
       "\n",
       "    .dataframe tbody tr th {\n",
       "        vertical-align: top;\n",
       "    }\n",
       "\n",
       "    .dataframe thead th {\n",
       "        text-align: right;\n",
       "    }\n",
       "</style>\n",
       "<table border=\"1\" class=\"dataframe\">\n",
       "  <thead>\n",
       "    <tr style=\"text-align: right;\">\n",
       "      <th></th>\n",
       "      <th>0</th>\n",
       "    </tr>\n",
       "  </thead>\n",
       "  <tbody>\n",
       "    <tr>\n",
       "      <th>order_id</th>\n",
       "      <td>0</td>\n",
       "    </tr>\n",
       "    <tr>\n",
       "      <th>customer_id</th>\n",
       "      <td>0</td>\n",
       "    </tr>\n",
       "    <tr>\n",
       "      <th>order_status</th>\n",
       "      <td>0</td>\n",
       "    </tr>\n",
       "    <tr>\n",
       "      <th>order_purchase_timestamp</th>\n",
       "      <td>0</td>\n",
       "    </tr>\n",
       "    <tr>\n",
       "      <th>order_approved_at</th>\n",
       "      <td>160</td>\n",
       "    </tr>\n",
       "    <tr>\n",
       "      <th>order_delivered_carrier_date</th>\n",
       "      <td>1783</td>\n",
       "    </tr>\n",
       "    <tr>\n",
       "      <th>order_delivered_customer_date</th>\n",
       "      <td>2965</td>\n",
       "    </tr>\n",
       "    <tr>\n",
       "      <th>order_estimated_delivery_date</th>\n",
       "      <td>0</td>\n",
       "    </tr>\n",
       "  </tbody>\n",
       "</table>\n",
       "</div>"
      ],
      "text/plain": [
       "                                  0\n",
       "order_id                          0\n",
       "customer_id                       0\n",
       "order_status                      0\n",
       "order_purchase_timestamp          0\n",
       "order_approved_at               160\n",
       "order_delivered_carrier_date   1783\n",
       "order_delivered_customer_date  2965\n",
       "order_estimated_delivery_date     0"
      ]
     },
     "execution_count": 10,
     "metadata": {},
     "output_type": "execute_result"
    }
   ],
   "source": [
    "orders.isna().sum().to_frame()"
   ]
  },
  {
   "cell_type": "markdown",
   "metadata": {
    "pycharm": {
     "name": "#%% md\n"
    }
   },
   "source": [
    "Заказы, у которых еще не была подтверждена оплата, будут с пропусками в order_approved_at. Все это строки со статусами canceled, delivered, created. Если заказ не оплачен или только создан, он может быть не оплачен, но если заказ не оплачен, то как он может быть доставлен? Тут скорее всего ошибка в данных, удалим строки где есть пропуски в order_approved_at и статус заказа delivered."
   ]
  },
  {
   "cell_type": "code",
   "execution_count": 11,
   "metadata": {
    "pycharm": {
     "name": "#%%\n"
    }
   },
   "outputs": [
    {
     "data": {
      "text/plain": [
       "array(['canceled', 'delivered', 'created'], dtype=object)"
      ]
     },
     "execution_count": 11,
     "metadata": {},
     "output_type": "execute_result"
    }
   ],
   "source": [
    "orders.order_status[orders.order_approved_at.isna()].unique()"
   ]
  },
  {
   "cell_type": "code",
   "execution_count": 12,
   "metadata": {
    "pycharm": {
     "name": "#%%\n"
    }
   },
   "outputs": [],
   "source": [
    "filt = orders.query('order_status == \"delivered\" and order_approved_at.isna()').order_id\n",
    "orders = orders.query('order_id not in @filt')"
   ]
  },
  {
   "cell_type": "markdown",
   "metadata": {
    "pycharm": {
     "name": "#%% md\n"
    }
   },
   "source": [
    "Пропуски в order_delivered_carrier_date, то есть время передачи в логистическую компанию, у нас со статусами invoiced, processing, unavailable, canceled, created, approved, delivered. Если время не заполнено, то предполжим, что заказ еще не передали в логистическую компанию, такое может быть с заказами, которые созданы created и еще не оплачены invoiced, оплачены approved, в процессе сбора на складе processing, недоступны unavailable или отменены canceled, но доставленный delivered заказ не может быть одновременно не передан в в логистическую компанию. Удалим строки, где есть пропуски в order_delivered_carrier_date и статус заказа delivered."
   ]
  },
  {
   "cell_type": "code",
   "execution_count": 13,
   "metadata": {
    "pycharm": {
     "name": "#%%\n"
    }
   },
   "outputs": [
    {
     "data": {
      "text/plain": [
       "array(['invoiced', 'processing', 'unavailable', 'canceled', 'created',\n",
       "       'approved', 'delivered'], dtype=object)"
      ]
     },
     "execution_count": 13,
     "metadata": {},
     "output_type": "execute_result"
    }
   ],
   "source": [
    "orders.order_status[orders.order_delivered_carrier_date.isna()].unique()"
   ]
  },
  {
   "cell_type": "code",
   "execution_count": 14,
   "metadata": {
    "pycharm": {
     "name": "#%%\n"
    }
   },
   "outputs": [],
   "source": [
    "filt = orders.query('order_status == \"delivered\" and order_delivered_carrier_date.isna()').order_id\n",
    "orders = orders.query('order_id not in @filt')"
   ]
  },
  {
   "cell_type": "markdown",
   "metadata": {
    "pycharm": {
     "name": "#%% md\n"
    }
   },
   "source": [
    "Пропуски во времени доставки order_delivered_customer_date у нас есть со всеми статусами заказа, здесь можно предположить, что дата не указана, если товар не доставили. Такое может быть при любом статусе заказа, кроме delivered, не может же быть доставленный заказ, не доставлен одновременно. Удалим строки, где есть пропуски в order_delivered_customer_date и статус заказа delivered."
   ]
  },
  {
   "cell_type": "code",
   "execution_count": 15,
   "metadata": {
    "pycharm": {
     "name": "#%%\n"
    }
   },
   "outputs": [
    {
     "data": {
      "text/plain": [
       "array(['invoiced', 'shipped', 'processing', 'unavailable', 'canceled',\n",
       "       'delivered', 'created', 'approved'], dtype=object)"
      ]
     },
     "execution_count": 15,
     "metadata": {},
     "output_type": "execute_result"
    }
   ],
   "source": [
    "orders.order_status[orders.order_delivered_customer_date.isna()].unique()"
   ]
  },
  {
   "cell_type": "code",
   "execution_count": 16,
   "metadata": {
    "pycharm": {
     "name": "#%%\n"
    }
   },
   "outputs": [],
   "source": [
    "filt = orders.query('order_status == \"delivered\" and order_delivered_customer_date.isna()').order_id\n",
    "orders = orders.query('order_id not in @filt')"
   ]
  },
  {
   "cell_type": "code",
   "execution_count": 17,
   "metadata": {
    "pycharm": {
     "name": "#%%\n"
    }
   },
   "outputs": [
    {
     "data": {
      "text/html": [
       "<div>\n",
       "<style scoped>\n",
       "    .dataframe tbody tr th:only-of-type {\n",
       "        vertical-align: middle;\n",
       "    }\n",
       "\n",
       "    .dataframe tbody tr th {\n",
       "        vertical-align: top;\n",
       "    }\n",
       "\n",
       "    .dataframe thead th {\n",
       "        text-align: right;\n",
       "    }\n",
       "</style>\n",
       "<table border=\"1\" class=\"dataframe\">\n",
       "  <thead>\n",
       "    <tr style=\"text-align: right;\">\n",
       "      <th></th>\n",
       "      <th>0</th>\n",
       "    </tr>\n",
       "  </thead>\n",
       "  <tbody>\n",
       "    <tr>\n",
       "      <th>order_id</th>\n",
       "      <td>99418</td>\n",
       "    </tr>\n",
       "    <tr>\n",
       "      <th>customer_id</th>\n",
       "      <td>99418</td>\n",
       "    </tr>\n",
       "    <tr>\n",
       "      <th>order_status</th>\n",
       "      <td>8</td>\n",
       "    </tr>\n",
       "    <tr>\n",
       "      <th>order_purchase_timestamp</th>\n",
       "      <td>98852</td>\n",
       "    </tr>\n",
       "    <tr>\n",
       "      <th>order_approved_at</th>\n",
       "      <td>90725</td>\n",
       "    </tr>\n",
       "    <tr>\n",
       "      <th>order_delivered_carrier_date</th>\n",
       "      <td>81006</td>\n",
       "    </tr>\n",
       "    <tr>\n",
       "      <th>order_delivered_customer_date</th>\n",
       "      <td>95649</td>\n",
       "    </tr>\n",
       "    <tr>\n",
       "      <th>order_estimated_delivery_date</th>\n",
       "      <td>459</td>\n",
       "    </tr>\n",
       "  </tbody>\n",
       "</table>\n",
       "</div>"
      ],
      "text/plain": [
       "                                   0\n",
       "order_id                       99418\n",
       "customer_id                    99418\n",
       "order_status                       8\n",
       "order_purchase_timestamp       98852\n",
       "order_approved_at              90725\n",
       "order_delivered_carrier_date   81006\n",
       "order_delivered_customer_date  95649\n",
       "order_estimated_delivery_date    459"
      ]
     },
     "execution_count": 17,
     "metadata": {},
     "output_type": "execute_result"
    }
   ],
   "source": [
    "orders.nunique().to_frame()"
   ]
  },
  {
   "cell_type": "markdown",
   "metadata": {
    "pycharm": {
     "name": "#%% md\n"
    }
   },
   "source": [
    "#### items —  товарные позиции, входящие в заказы\n",
    "* order_id —  уникальный идентификатор заказа (номер чека)\n",
    "\n",
    "* order_item_id —  идентификатор товара внутри одного заказа\n",
    "\n",
    "* product_id —  ид товара (аналог штрихкода)\n",
    "\n",
    "* seller_id — ид производителя товара\n",
    "\n",
    "* shipping_limit_date —  максимальная дата доставки продавцом для передачи заказа партнеру по логистике\n",
    "\n",
    "* price —  цена за единицу товара\n",
    "\n",
    "* freight_value —  вес товара"
   ]
  },
  {
   "cell_type": "code",
   "execution_count": 18,
   "metadata": {
    "pycharm": {
     "name": "#%%\n"
    },
    "scrolled": false
   },
   "outputs": [
    {
     "data": {
      "text/html": [
       "<div>\n",
       "<style scoped>\n",
       "    .dataframe tbody tr th:only-of-type {\n",
       "        vertical-align: middle;\n",
       "    }\n",
       "\n",
       "    .dataframe tbody tr th {\n",
       "        vertical-align: top;\n",
       "    }\n",
       "\n",
       "    .dataframe thead th {\n",
       "        text-align: right;\n",
       "    }\n",
       "</style>\n",
       "<table border=\"1\" class=\"dataframe\">\n",
       "  <thead>\n",
       "    <tr style=\"text-align: right;\">\n",
       "      <th></th>\n",
       "      <th>order_id</th>\n",
       "      <th>order_item_id</th>\n",
       "      <th>product_id</th>\n",
       "      <th>seller_id</th>\n",
       "      <th>shipping_limit_date</th>\n",
       "      <th>price</th>\n",
       "      <th>freight_value</th>\n",
       "    </tr>\n",
       "  </thead>\n",
       "  <tbody>\n",
       "    <tr>\n",
       "      <th>0</th>\n",
       "      <td>00010242fe8c5a6d1ba2dd792cb16214</td>\n",
       "      <td>1</td>\n",
       "      <td>4244733e06e7ecb4970a6e2683c13e61</td>\n",
       "      <td>48436dade18ac8b2bce089ec2a041202</td>\n",
       "      <td>2017-09-19 09:45:35</td>\n",
       "      <td>58.90</td>\n",
       "      <td>13.29</td>\n",
       "    </tr>\n",
       "    <tr>\n",
       "      <th>1</th>\n",
       "      <td>00018f77f2f0320c557190d7a144bdd3</td>\n",
       "      <td>1</td>\n",
       "      <td>e5f2d52b802189ee658865ca93d83a8f</td>\n",
       "      <td>dd7ddc04e1b6c2c614352b383efe2d36</td>\n",
       "      <td>2017-05-03 11:05:13</td>\n",
       "      <td>239.90</td>\n",
       "      <td>19.93</td>\n",
       "    </tr>\n",
       "    <tr>\n",
       "      <th>2</th>\n",
       "      <td>000229ec398224ef6ca0657da4fc703e</td>\n",
       "      <td>1</td>\n",
       "      <td>c777355d18b72b67abbeef9df44fd0fd</td>\n",
       "      <td>5b51032eddd242adc84c38acab88f23d</td>\n",
       "      <td>2018-01-18 14:48:30</td>\n",
       "      <td>199.00</td>\n",
       "      <td>17.87</td>\n",
       "    </tr>\n",
       "    <tr>\n",
       "      <th>3</th>\n",
       "      <td>00024acbcdf0a6daa1e931b038114c75</td>\n",
       "      <td>1</td>\n",
       "      <td>7634da152a4610f1595efa32f14722fc</td>\n",
       "      <td>9d7a1d34a5052409006425275ba1c2b4</td>\n",
       "      <td>2018-08-15 10:10:18</td>\n",
       "      <td>12.99</td>\n",
       "      <td>12.79</td>\n",
       "    </tr>\n",
       "    <tr>\n",
       "      <th>4</th>\n",
       "      <td>00042b26cf59d7ce69dfabb4e55b4fd9</td>\n",
       "      <td>1</td>\n",
       "      <td>ac6c3623068f30de03045865e4e10089</td>\n",
       "      <td>df560393f3a51e74553ab94004ba5c87</td>\n",
       "      <td>2017-02-13 13:57:51</td>\n",
       "      <td>199.90</td>\n",
       "      <td>18.14</td>\n",
       "    </tr>\n",
       "  </tbody>\n",
       "</table>\n",
       "</div>"
      ],
      "text/plain": [
       "                           order_id  order_item_id  \\\n",
       "0  00010242fe8c5a6d1ba2dd792cb16214              1   \n",
       "1  00018f77f2f0320c557190d7a144bdd3              1   \n",
       "2  000229ec398224ef6ca0657da4fc703e              1   \n",
       "3  00024acbcdf0a6daa1e931b038114c75              1   \n",
       "4  00042b26cf59d7ce69dfabb4e55b4fd9              1   \n",
       "\n",
       "                         product_id                         seller_id  \\\n",
       "0  4244733e06e7ecb4970a6e2683c13e61  48436dade18ac8b2bce089ec2a041202   \n",
       "1  e5f2d52b802189ee658865ca93d83a8f  dd7ddc04e1b6c2c614352b383efe2d36   \n",
       "2  c777355d18b72b67abbeef9df44fd0fd  5b51032eddd242adc84c38acab88f23d   \n",
       "3  7634da152a4610f1595efa32f14722fc  9d7a1d34a5052409006425275ba1c2b4   \n",
       "4  ac6c3623068f30de03045865e4e10089  df560393f3a51e74553ab94004ba5c87   \n",
       "\n",
       "   shipping_limit_date   price  freight_value  \n",
       "0  2017-09-19 09:45:35   58.90          13.29  \n",
       "1  2017-05-03 11:05:13  239.90          19.93  \n",
       "2  2018-01-18 14:48:30  199.00          17.87  \n",
       "3  2018-08-15 10:10:18   12.99          12.79  \n",
       "4  2017-02-13 13:57:51  199.90          18.14  "
      ]
     },
     "execution_count": 18,
     "metadata": {},
     "output_type": "execute_result"
    }
   ],
   "source": [
    "items.head()"
   ]
  },
  {
   "cell_type": "code",
   "execution_count": 19,
   "metadata": {
    "pycharm": {
     "name": "#%%\n"
    }
   },
   "outputs": [
    {
     "name": "stdout",
     "output_type": "stream",
     "text": [
      "<class 'pandas.core.frame.DataFrame'>\n",
      "RangeIndex: 112650 entries, 0 to 112649\n",
      "Data columns (total 7 columns):\n",
      " #   Column               Non-Null Count   Dtype  \n",
      "---  ------               --------------   -----  \n",
      " 0   order_id             112650 non-null  object \n",
      " 1   order_item_id        112650 non-null  int64  \n",
      " 2   product_id           112650 non-null  object \n",
      " 3   seller_id            112650 non-null  object \n",
      " 4   shipping_limit_date  112650 non-null  object \n",
      " 5   price                112650 non-null  float64\n",
      " 6   freight_value        112650 non-null  float64\n",
      "dtypes: float64(2), int64(1), object(4)\n",
      "memory usage: 6.0+ MB\n"
     ]
    }
   ],
   "source": [
    "items.info()"
   ]
  },
  {
   "cell_type": "code",
   "execution_count": 20,
   "metadata": {
    "pycharm": {
     "name": "#%%\n"
    }
   },
   "outputs": [],
   "source": [
    "items['shipping_limit_date'] = pd.to_datetime(items['shipping_limit_date'], format=('%Y-%m-%d'))"
   ]
  },
  {
   "cell_type": "code",
   "execution_count": 21,
   "metadata": {
    "pycharm": {
     "name": "#%%\n"
    }
   },
   "outputs": [
    {
     "data": {
      "text/html": [
       "<div>\n",
       "<style scoped>\n",
       "    .dataframe tbody tr th:only-of-type {\n",
       "        vertical-align: middle;\n",
       "    }\n",
       "\n",
       "    .dataframe tbody tr th {\n",
       "        vertical-align: top;\n",
       "    }\n",
       "\n",
       "    .dataframe thead th {\n",
       "        text-align: right;\n",
       "    }\n",
       "</style>\n",
       "<table border=\"1\" class=\"dataframe\">\n",
       "  <thead>\n",
       "    <tr style=\"text-align: right;\">\n",
       "      <th></th>\n",
       "      <th>0</th>\n",
       "    </tr>\n",
       "  </thead>\n",
       "  <tbody>\n",
       "    <tr>\n",
       "      <th>order_id</th>\n",
       "      <td>0</td>\n",
       "    </tr>\n",
       "    <tr>\n",
       "      <th>order_item_id</th>\n",
       "      <td>0</td>\n",
       "    </tr>\n",
       "    <tr>\n",
       "      <th>product_id</th>\n",
       "      <td>0</td>\n",
       "    </tr>\n",
       "    <tr>\n",
       "      <th>seller_id</th>\n",
       "      <td>0</td>\n",
       "    </tr>\n",
       "    <tr>\n",
       "      <th>shipping_limit_date</th>\n",
       "      <td>0</td>\n",
       "    </tr>\n",
       "    <tr>\n",
       "      <th>price</th>\n",
       "      <td>0</td>\n",
       "    </tr>\n",
       "    <tr>\n",
       "      <th>freight_value</th>\n",
       "      <td>0</td>\n",
       "    </tr>\n",
       "  </tbody>\n",
       "</table>\n",
       "</div>"
      ],
      "text/plain": [
       "                     0\n",
       "order_id             0\n",
       "order_item_id        0\n",
       "product_id           0\n",
       "seller_id            0\n",
       "shipping_limit_date  0\n",
       "price                0\n",
       "freight_value        0"
      ]
     },
     "execution_count": 21,
     "metadata": {},
     "output_type": "execute_result"
    }
   ],
   "source": [
    "items.isna().sum().to_frame()"
   ]
  },
  {
   "cell_type": "code",
   "execution_count": 22,
   "metadata": {
    "pycharm": {
     "name": "#%%\n"
    }
   },
   "outputs": [
    {
     "data": {
      "text/html": [
       "<div>\n",
       "<style scoped>\n",
       "    .dataframe tbody tr th:only-of-type {\n",
       "        vertical-align: middle;\n",
       "    }\n",
       "\n",
       "    .dataframe tbody tr th {\n",
       "        vertical-align: top;\n",
       "    }\n",
       "\n",
       "    .dataframe thead th {\n",
       "        text-align: right;\n",
       "    }\n",
       "</style>\n",
       "<table border=\"1\" class=\"dataframe\">\n",
       "  <thead>\n",
       "    <tr style=\"text-align: right;\">\n",
       "      <th></th>\n",
       "      <th>0</th>\n",
       "    </tr>\n",
       "  </thead>\n",
       "  <tbody>\n",
       "    <tr>\n",
       "      <th>order_id</th>\n",
       "      <td>98666</td>\n",
       "    </tr>\n",
       "    <tr>\n",
       "      <th>order_item_id</th>\n",
       "      <td>21</td>\n",
       "    </tr>\n",
       "    <tr>\n",
       "      <th>product_id</th>\n",
       "      <td>32951</td>\n",
       "    </tr>\n",
       "    <tr>\n",
       "      <th>seller_id</th>\n",
       "      <td>3095</td>\n",
       "    </tr>\n",
       "    <tr>\n",
       "      <th>shipping_limit_date</th>\n",
       "      <td>93318</td>\n",
       "    </tr>\n",
       "    <tr>\n",
       "      <th>price</th>\n",
       "      <td>5968</td>\n",
       "    </tr>\n",
       "    <tr>\n",
       "      <th>freight_value</th>\n",
       "      <td>6999</td>\n",
       "    </tr>\n",
       "  </tbody>\n",
       "</table>\n",
       "</div>"
      ],
      "text/plain": [
       "                         0\n",
       "order_id             98666\n",
       "order_item_id           21\n",
       "product_id           32951\n",
       "seller_id             3095\n",
       "shipping_limit_date  93318\n",
       "price                 5968\n",
       "freight_value         6999"
      ]
     },
     "execution_count": 22,
     "metadata": {},
     "output_type": "execute_result"
    }
   ],
   "source": [
    "items.nunique().to_frame()"
   ]
  },
  {
   "cell_type": "markdown",
   "metadata": {
    "pycharm": {
     "name": "#%% md\n"
    }
   },
   "source": [
    "По результатам исследования данных мы видим, что в таблице orders у нас есть пропущенные значения в столбцах: order_approved_at, order_delivered_carrier_date и  order_delivered_customer_date. Удалили строки, данные в которых противоречили логике.\n",
    "\n",
    "Типы данных в столбцах с датами приведены к нужному типу datetime64[ns]. Из дополнительных особенностей можно отметить, что в таблице orders совпадает количество уникальных значений в столбцах order_id и customer_id, так как customer_idа таблице customers, значений customer_unique_id меньше, чем customer_id, это говорит о том, что у некоторых пользователей несколько заказов в наших данных. Эта информация понадобится дальше, когда будем смотреть на покупки пользователей."
   ]
  },
  {
   "cell_type": "markdown",
   "metadata": {
    "pycharm": {
     "name": "#%% md\n"
    }
   },
   "source": [
    "### 1. Сколько у нас пользователей, которые совершили покупку только один раз?"
   ]
  },
  {
   "cell_type": "markdown",
   "metadata": {
    "pycharm": {
     "name": "#%% md\n"
    }
   },
   "source": [
    "###### Для начала определимся, что будем считать покупкой по статусам самого заказа.\n",
    "\n",
    "###### Уникальные статусы заказов в таблице olist_orders_dataset:\n",
    "\n",
    "* approved —  подтверждён\n",
    "* invoiced —  выставлен счёт\n",
    "* processing —  в процессе сборки заказа\n",
    "* shipped —  отгружен со склада\n",
    "* delivered —  доставлен пользователю\n",
    "* unavailable —  недоступен\n",
    "* canceled —  отменён\n",
    "\n",
    "Для подсчета покупок подойдет заказ, который будет или уже доставлен. То есть подойдет такой заказ, который уже доставлен, в процессе доставки, в процессе сборки или оплачен, но еще не передан на склад, так как возможно данные были отгружены до того, как заказ был доставлен, то есть эти статусы не говорят нам о том, что заказ не будет доставлен, в отличие от статусов canceled и unavailable, здесь очевидно, доставлен заказ не будет. invoiced и created не подходят, потому что пользователь может не оплатить такой заказ, поэтому чтобы не сомневаться, берем для анализа такие заказы:\n",
    "\n",
    "* approved —  подтверждён\n",
    "* processing —  в процессе сборки заказа\n",
    "* shipped —  отгружен со склада\n",
    "* delivered —  доставлен пользователю\n",
    "\n"
   ]
  },
  {
   "cell_type": "markdown",
   "metadata": {
    "pycharm": {
     "name": "#%% md\n"
    }
   },
   "source": [
    "Объединим нужные нам таблицы customers и orders, чтобы посмотреть на заказы пользователей, так как позаказных идентификаторов у нас больше, чем уникальных. Объединяем по customer_id, берем все данные из таблицы customers, чтобы попали все customer_unique_id.\n",
    "\n",
    "Выберем только данные с нужными нам статусами заказов ('approved', 'processing', 'shipped', 'delivered')."
   ]
  },
  {
   "cell_type": "code",
   "execution_count": 23,
   "metadata": {
    "pycharm": {
     "name": "#%%\n"
    },
    "scrolled": true
   },
   "outputs": [
    {
     "data": {
      "text/html": [
       "<div>\n",
       "<style scoped>\n",
       "    .dataframe tbody tr th:only-of-type {\n",
       "        vertical-align: middle;\n",
       "    }\n",
       "\n",
       "    .dataframe tbody tr th {\n",
       "        vertical-align: top;\n",
       "    }\n",
       "\n",
       "    .dataframe thead th {\n",
       "        text-align: right;\n",
       "    }\n",
       "</style>\n",
       "<table border=\"1\" class=\"dataframe\">\n",
       "  <thead>\n",
       "    <tr style=\"text-align: right;\">\n",
       "      <th></th>\n",
       "      <th>customer_id</th>\n",
       "      <th>customer_unique_id</th>\n",
       "      <th>customer_zip_code_prefix</th>\n",
       "      <th>customer_city</th>\n",
       "      <th>customer_state</th>\n",
       "      <th>order_id</th>\n",
       "      <th>order_status</th>\n",
       "      <th>order_purchase_timestamp</th>\n",
       "      <th>order_approved_at</th>\n",
       "      <th>order_delivered_carrier_date</th>\n",
       "      <th>order_delivered_customer_date</th>\n",
       "      <th>order_estimated_delivery_date</th>\n",
       "    </tr>\n",
       "  </thead>\n",
       "  <tbody>\n",
       "    <tr>\n",
       "      <th>0</th>\n",
       "      <td>06b8999e2fba1a1fbc88172c00ba8bc7</td>\n",
       "      <td>861eff4711a542e4b93843c6dd7febb0</td>\n",
       "      <td>14409</td>\n",
       "      <td>franca</td>\n",
       "      <td>SP</td>\n",
       "      <td>00e7ee1b050b8499577073aeb2a297a1</td>\n",
       "      <td>delivered</td>\n",
       "      <td>2017-05-16 15:05:35</td>\n",
       "      <td>2017-05-16 15:22:12</td>\n",
       "      <td>2017-05-23 10:47:57</td>\n",
       "      <td>2017-05-25 10:35:35</td>\n",
       "      <td>2017-06-05</td>\n",
       "    </tr>\n",
       "    <tr>\n",
       "      <th>1</th>\n",
       "      <td>18955e83d337fd6b2def6b18a428ac77</td>\n",
       "      <td>290c77bc529b7ac935b93aa66c333dc3</td>\n",
       "      <td>9790</td>\n",
       "      <td>sao bernardo do campo</td>\n",
       "      <td>SP</td>\n",
       "      <td>29150127e6685892b6eab3eec79f59c7</td>\n",
       "      <td>delivered</td>\n",
       "      <td>2018-01-12 20:48:24</td>\n",
       "      <td>2018-01-12 20:58:32</td>\n",
       "      <td>2018-01-15 17:14:59</td>\n",
       "      <td>2018-01-29 12:41:19</td>\n",
       "      <td>2018-02-06</td>\n",
       "    </tr>\n",
       "    <tr>\n",
       "      <th>2</th>\n",
       "      <td>4e7b3e00288586ebd08712fdd0374a03</td>\n",
       "      <td>060e732b5b29e8181a18229c7b0b2b5e</td>\n",
       "      <td>1151</td>\n",
       "      <td>sao paulo</td>\n",
       "      <td>SP</td>\n",
       "      <td>b2059ed67ce144a36e2aa97d2c9e9ad2</td>\n",
       "      <td>delivered</td>\n",
       "      <td>2018-05-19 16:07:45</td>\n",
       "      <td>2018-05-20 16:19:10</td>\n",
       "      <td>2018-06-11 14:31:00</td>\n",
       "      <td>2018-06-14 17:58:51</td>\n",
       "      <td>2018-06-13</td>\n",
       "    </tr>\n",
       "    <tr>\n",
       "      <th>3</th>\n",
       "      <td>b2b6027bc5c5109e529d4dc6358b12c3</td>\n",
       "      <td>259dac757896d24d7702b9acbbff3f3c</td>\n",
       "      <td>8775</td>\n",
       "      <td>mogi das cruzes</td>\n",
       "      <td>SP</td>\n",
       "      <td>951670f92359f4fe4a63112aa7306eba</td>\n",
       "      <td>delivered</td>\n",
       "      <td>2018-03-13 16:06:38</td>\n",
       "      <td>2018-03-13 17:29:19</td>\n",
       "      <td>2018-03-27 23:22:42</td>\n",
       "      <td>2018-03-28 16:04:25</td>\n",
       "      <td>2018-04-10</td>\n",
       "    </tr>\n",
       "    <tr>\n",
       "      <th>4</th>\n",
       "      <td>4f2d8ab171c80ec8364f7c12e35b23ad</td>\n",
       "      <td>345ecd01c38d18a9036ed96c73b8d066</td>\n",
       "      <td>13056</td>\n",
       "      <td>campinas</td>\n",
       "      <td>SP</td>\n",
       "      <td>6b7d50bd145f6fc7f33cebabd7e49d0f</td>\n",
       "      <td>delivered</td>\n",
       "      <td>2018-07-29 09:51:30</td>\n",
       "      <td>2018-07-29 10:10:09</td>\n",
       "      <td>2018-07-30 15:16:00</td>\n",
       "      <td>2018-08-09 20:55:48</td>\n",
       "      <td>2018-08-15</td>\n",
       "    </tr>\n",
       "  </tbody>\n",
       "</table>\n",
       "</div>"
      ],
      "text/plain": [
       "                        customer_id                customer_unique_id  \\\n",
       "0  06b8999e2fba1a1fbc88172c00ba8bc7  861eff4711a542e4b93843c6dd7febb0   \n",
       "1  18955e83d337fd6b2def6b18a428ac77  290c77bc529b7ac935b93aa66c333dc3   \n",
       "2  4e7b3e00288586ebd08712fdd0374a03  060e732b5b29e8181a18229c7b0b2b5e   \n",
       "3  b2b6027bc5c5109e529d4dc6358b12c3  259dac757896d24d7702b9acbbff3f3c   \n",
       "4  4f2d8ab171c80ec8364f7c12e35b23ad  345ecd01c38d18a9036ed96c73b8d066   \n",
       "\n",
       "   customer_zip_code_prefix          customer_city customer_state  \\\n",
       "0                     14409                 franca             SP   \n",
       "1                      9790  sao bernardo do campo             SP   \n",
       "2                      1151              sao paulo             SP   \n",
       "3                      8775        mogi das cruzes             SP   \n",
       "4                     13056               campinas             SP   \n",
       "\n",
       "                           order_id order_status order_purchase_timestamp  \\\n",
       "0  00e7ee1b050b8499577073aeb2a297a1    delivered      2017-05-16 15:05:35   \n",
       "1  29150127e6685892b6eab3eec79f59c7    delivered      2018-01-12 20:48:24   \n",
       "2  b2059ed67ce144a36e2aa97d2c9e9ad2    delivered      2018-05-19 16:07:45   \n",
       "3  951670f92359f4fe4a63112aa7306eba    delivered      2018-03-13 16:06:38   \n",
       "4  6b7d50bd145f6fc7f33cebabd7e49d0f    delivered      2018-07-29 09:51:30   \n",
       "\n",
       "    order_approved_at order_delivered_carrier_date  \\\n",
       "0 2017-05-16 15:22:12          2017-05-23 10:47:57   \n",
       "1 2018-01-12 20:58:32          2018-01-15 17:14:59   \n",
       "2 2018-05-20 16:19:10          2018-06-11 14:31:00   \n",
       "3 2018-03-13 17:29:19          2018-03-27 23:22:42   \n",
       "4 2018-07-29 10:10:09          2018-07-30 15:16:00   \n",
       "\n",
       "  order_delivered_customer_date order_estimated_delivery_date  \n",
       "0           2017-05-25 10:35:35                    2017-06-05  \n",
       "1           2018-01-29 12:41:19                    2018-02-06  \n",
       "2           2018-06-14 17:58:51                    2018-06-13  \n",
       "3           2018-03-28 16:04:25                    2018-04-10  \n",
       "4           2018-08-09 20:55:48                    2018-08-15  "
      ]
     },
     "execution_count": 23,
     "metadata": {},
     "output_type": "execute_result"
    }
   ],
   "source": [
    "customers_orders = pd.merge(customers, orders, how='inner', on='customer_id')\n",
    "\n",
    "status = ['approved', 'processing', 'shipped', 'delivered']\n",
    "purchases = customers_orders.query('order_status in @status')\n",
    "\n",
    "purchases.head()"
   ]
  },
  {
   "cell_type": "markdown",
   "metadata": {
    "pycharm": {
     "name": "#%% md\n"
    }
   },
   "source": [
    "Сгруппируем данные по customer_unique_id и посчитаем количество заказов order_id, оставим те строки, где количество заказов равно одному."
   ]
  },
  {
   "cell_type": "code",
   "execution_count": 24,
   "metadata": {
    "pycharm": {
     "name": "#%%\n"
    },
    "scrolled": true
   },
   "outputs": [
    {
     "data": {
      "text/html": [
       "<div>\n",
       "<style scoped>\n",
       "    .dataframe tbody tr th:only-of-type {\n",
       "        vertical-align: middle;\n",
       "    }\n",
       "\n",
       "    .dataframe tbody tr th {\n",
       "        vertical-align: top;\n",
       "    }\n",
       "\n",
       "    .dataframe thead th {\n",
       "        text-align: right;\n",
       "    }\n",
       "</style>\n",
       "<table border=\"1\" class=\"dataframe\">\n",
       "  <thead>\n",
       "    <tr style=\"text-align: right;\">\n",
       "      <th></th>\n",
       "      <th>customer_unique_id</th>\n",
       "      <th>order_id</th>\n",
       "    </tr>\n",
       "  </thead>\n",
       "  <tbody>\n",
       "    <tr>\n",
       "      <th>0</th>\n",
       "      <td>0000366f3b9a7992bf8c76cfdf3221e2</td>\n",
       "      <td>1</td>\n",
       "    </tr>\n",
       "    <tr>\n",
       "      <th>1</th>\n",
       "      <td>0000b849f77a49e4a4ce2b2a4ca5be3f</td>\n",
       "      <td>1</td>\n",
       "    </tr>\n",
       "    <tr>\n",
       "      <th>2</th>\n",
       "      <td>0000f46a3911fa3c0805444483337064</td>\n",
       "      <td>1</td>\n",
       "    </tr>\n",
       "    <tr>\n",
       "      <th>3</th>\n",
       "      <td>0000f6ccb0745a6a4b88665a16c9f078</td>\n",
       "      <td>1</td>\n",
       "    </tr>\n",
       "    <tr>\n",
       "      <th>4</th>\n",
       "      <td>0004aac84e0df4da2b147fca70cf8255</td>\n",
       "      <td>1</td>\n",
       "    </tr>\n",
       "  </tbody>\n",
       "</table>\n",
       "</div>"
      ],
      "text/plain": [
       "                 customer_unique_id  order_id\n",
       "0  0000366f3b9a7992bf8c76cfdf3221e2         1\n",
       "1  0000b849f77a49e4a4ce2b2a4ca5be3f         1\n",
       "2  0000f46a3911fa3c0805444483337064         1\n",
       "3  0000f6ccb0745a6a4b88665a16c9f078         1\n",
       "4  0004aac84e0df4da2b147fca70cf8255         1"
      ]
     },
     "execution_count": 24,
     "metadata": {},
     "output_type": "execute_result"
    }
   ],
   "source": [
    "purchases_one = purchases\\\n",
    "    .groupby(['customer_unique_id'], as_index=False)\\\n",
    "    .agg({'order_id': 'count'})\\\n",
    "    .query('order_id == 1')\n",
    "\n",
    "purchases_one.head()"
   ]
  },
  {
   "cell_type": "code",
   "execution_count": 25,
   "metadata": {
    "pycharm": {
     "name": "#%%\n"
    }
   },
   "outputs": [
    {
     "name": "stdout",
     "output_type": "stream",
     "text": [
      "У нас 91795 покупателей, которые совершили только одну покупку.\n"
     ]
    }
   ],
   "source": [
    "print(f'У нас {len(purchases_one)} покупателей, которые совершили только одну покупку.')"
   ]
  },
  {
   "cell_type": "markdown",
   "metadata": {
    "pycharm": {
     "name": "#%% md\n"
    }
   },
   "source": [
    "### 2. Сколько заказов в месяц в среднем не доставляется по разным причинам?"
   ]
  },
  {
   "cell_type": "markdown",
   "metadata": {
    "pycharm": {
     "name": "#%% md\n"
    }
   },
   "source": [
    "###### Будем работать с таблицей, которую создали на прошлом шаге customers_orders.\n",
    "\n",
    "###### Возьмем две причины, по которым заказ не доставляется:\n",
    "* unavailable —  недоступен<br>\n",
    "* canceled —  отменён<br>\n",
    "\n",
    "###### Не будем учитывать заказы, которые в процессе оформления или сборки, так как не сможем узнать заранее, будут они доставлены или нет."
   ]
  },
  {
   "cell_type": "markdown",
   "metadata": {
    "pycharm": {
     "name": "#%% md\n"
    }
   },
   "source": [
    "Создадим столбец month_create_order с годом и месяцем создания заказа."
   ]
  },
  {
   "cell_type": "code",
   "execution_count": 26,
   "metadata": {
    "pycharm": {
     "name": "#%%\n"
    }
   },
   "outputs": [],
   "source": [
    "customers_orders['month_create_order'] = customers_orders.order_purchase_timestamp.dt.strftime('%Y-%m')"
   ]
  },
  {
   "cell_type": "markdown",
   "metadata": {
    "pycharm": {
     "name": "#%% md\n"
    }
   },
   "source": [
    "Напишем функцию, которая фильтрует данные по статусу заказа, группирует по созданному столбцу month_create_order для подсчета количества заказов в месяц, посчитаем среднее количество заказов в месяц и округлим результат до целого.\n"
   ]
  },
  {
   "cell_type": "code",
   "execution_count": 27,
   "metadata": {
    "pycharm": {
     "name": "#%%\n"
    }
   },
   "outputs": [],
   "source": [
    "def mean_not_delivered(types):\n",
    "    return customers_orders.query('order_status == @types')\\\n",
    "                .groupby('month_create_order')\\\n",
    "                .order_id.count()\\\n",
    "                .mean()\\\n",
    "                .round()"
   ]
  },
  {
   "cell_type": "markdown",
   "metadata": {
    "pycharm": {
     "name": "#%% md\n"
    }
   },
   "source": [
    "Считаем среднее количество недоставленных заказов для заказов со статусами unavailable и canceled."
   ]
  },
  {
   "cell_type": "code",
   "execution_count": 28,
   "metadata": {
    "pycharm": {
     "name": "#%%\n"
    }
   },
   "outputs": [
    {
     "name": "stdout",
     "output_type": "stream",
     "text": [
      "Среднее количество недоступных заказов в месяц: 29.0\n",
      "Среднее количество отмененных заказов в месяц: 26.0\n"
     ]
    }
   ],
   "source": [
    "mean_unavailable_by_month = mean_not_delivered(\"unavailable\")\n",
    "mean_canceled_by_month = mean_not_delivered(\"canceled\")\n",
    "print('Среднее количество недоступных заказов в месяц:', mean_unavailable_by_month)\n",
    "print('Среднее количество отмененных заказов в месяц:', mean_canceled_by_month)"
   ]
  },
  {
   "cell_type": "markdown",
   "metadata": {
    "pycharm": {
     "name": "#%% md\n"
    }
   },
   "source": [
    "Дополнительно создадим график изменения количества недоставленных заказов со статусами unavailable и canceled по месяцам."
   ]
  },
  {
   "cell_type": "code",
   "execution_count": 29,
   "metadata": {
    "pycharm": {
     "name": "#%%\n"
    },
    "scrolled": true
   },
   "outputs": [],
   "source": [
    "data = customers_orders.query('order_status in (\"unavailable\", \"canceled\")')\\\n",
    "                .groupby(['month_create_order', 'order_status'])\\\n",
    "                .order_id.count().reset_index()"
   ]
  },
  {
   "cell_type": "code",
   "execution_count": 30,
   "metadata": {
    "pycharm": {
     "name": "#%%\n"
    }
   },
   "outputs": [
    {
     "data": {
      "image/png": "[encoded data removed]",
      "text/plain": [
       "<Figure size 1584x576 with 1 Axes>"
      ]
     },
     "metadata": {},
     "output_type": "display_data"
    }
   ],
   "source": [
    "sns.set(style=\"darkgrid\",\n",
    "        rc={\"figure.figsize\": (22, 8)})\n",
    "ax=sns.lineplot(data=data, x='month_create_order', y='order_id', hue='order_status', lw=3, palette='rocket')\n",
    "plt.xticks(rotation=45, size=20)\n",
    "plt.title('Распределение количества заказов', fontsize=20)\n",
    "plt.xlabel('Дата создания заказа', fontsize=20)\n",
    "plt.ylabel('Количество заказов', fontsize=20)\n",
    "plt.legend(fontsize=20)\n",
    "plt.grid\n",
    "sns.despine()\n",
    "plt.show()"
   ]
  },
  {
   "cell_type": "markdown",
   "metadata": {
    "pycharm": {
     "name": "#%% md\n"
    }
   },
   "source": [
    "На графике можем посмотреть в какой месяц сколько заказов у нас было не доставлено по причине того, что товар недоступен для покупателя unavailable или заказ отменен canceled. Можно отметить, что заказов, которые оказались недоступны стало меньше после ноября 2017 года, а отмененных заказов стало больше в 2018, особенно в феврале и августе 2018 года."
   ]
  },
  {
   "cell_type": "markdown",
   "metadata": {
    "pycharm": {
     "name": "#%% md\n"
    }
   },
   "source": [
    "### 3. По каждому товару определить, в какой день недели товар чаще всего покупается."
   ]
  },
  {
   "cell_type": "markdown",
   "metadata": {
    "pycharm": {
     "name": "#%% md\n"
    }
   },
   "source": [
    "Объединим созданную ранее таблицу customers_orders и items по order_id как full_data.\n",
    "\n",
    "Как и в первой задаче возьмем за покупку статусы заказов approved, processing, shipped, delivered.\n",
    "\n",
    "Добавим колонку week_name с названиями дней недели."
   ]
  },
  {
   "cell_type": "code",
   "execution_count": 31,
   "metadata": {
    "pycharm": {
     "name": "#%%\n"
    }
   },
   "outputs": [],
   "source": [
    "full_data = pd.merge(customers_orders, items, how='inner', on='order_id')\n",
    "\n",
    "status = ['approved', 'processing', 'shipped', 'delivered']\n",
    "full_data = full_data.query('order_status in @status')\n",
    "\n",
    "full_data['week_name'] = full_data.order_purchase_timestamp.dt.day_name()"
   ]
  },
  {
   "cell_type": "markdown",
   "metadata": {
    "pycharm": {
     "name": "#%% md\n"
    }
   },
   "source": [
    "Сгруппируем full_data по идентификатору товара product_id и дню недели week_name, подcчитаем количество товара для каждого дня недели, удалим индексацию, переименуем колонку order_item_id в count_product, отсортируем в порядке убывания по count_product."
   ]
  },
  {
   "cell_type": "code",
   "execution_count": 32,
   "metadata": {
    "pycharm": {
     "name": "#%%\n"
    },
    "scrolled": true
   },
   "outputs": [
    {
     "data": {
      "text/html": [
       "<div>\n",
       "<style scoped>\n",
       "    .dataframe tbody tr th:only-of-type {\n",
       "        vertical-align: middle;\n",
       "    }\n",
       "\n",
       "    .dataframe tbody tr th {\n",
       "        vertical-align: top;\n",
       "    }\n",
       "\n",
       "    .dataframe thead th {\n",
       "        text-align: right;\n",
       "    }\n",
       "</style>\n",
       "<table border=\"1\" class=\"dataframe\">\n",
       "  <thead>\n",
       "    <tr style=\"text-align: right;\">\n",
       "      <th></th>\n",
       "      <th>product_id</th>\n",
       "      <th>week_name</th>\n",
       "      <th>count_product</th>\n",
       "    </tr>\n",
       "  </thead>\n",
       "  <tbody>\n",
       "    <tr>\n",
       "      <th>15761</th>\n",
       "      <td>422879e10f46682990de24d770e7f83d</td>\n",
       "      <td>Wednesday</td>\n",
       "      <td>93</td>\n",
       "    </tr>\n",
       "    <tr>\n",
       "      <th>36169</th>\n",
       "      <td>99a4788cb24856965c36a24e339b6058</td>\n",
       "      <td>Monday</td>\n",
       "      <td>92</td>\n",
       "    </tr>\n",
       "    <tr>\n",
       "      <th>40669</th>\n",
       "      <td>aca2eb7d00ea1a7b8ebd4e68314663af</td>\n",
       "      <td>Thursday</td>\n",
       "      <td>89</td>\n",
       "    </tr>\n",
       "    <tr>\n",
       "      <th>40665</th>\n",
       "      <td>aca2eb7d00ea1a7b8ebd4e68314663af</td>\n",
       "      <td>Friday</td>\n",
       "      <td>87</td>\n",
       "    </tr>\n",
       "    <tr>\n",
       "      <th>40670</th>\n",
       "      <td>aca2eb7d00ea1a7b8ebd4e68314663af</td>\n",
       "      <td>Tuesday</td>\n",
       "      <td>85</td>\n",
       "    </tr>\n",
       "  </tbody>\n",
       "</table>\n",
       "</div>"
      ],
      "text/plain": [
       "                             product_id  week_name  count_product\n",
       "15761  422879e10f46682990de24d770e7f83d  Wednesday             93\n",
       "36169  99a4788cb24856965c36a24e339b6058     Monday             92\n",
       "40669  aca2eb7d00ea1a7b8ebd4e68314663af   Thursday             89\n",
       "40665  aca2eb7d00ea1a7b8ebd4e68314663af     Friday             87\n",
       "40670  aca2eb7d00ea1a7b8ebd4e68314663af    Tuesday             85"
      ]
     },
     "execution_count": 32,
     "metadata": {},
     "output_type": "execute_result"
    }
   ],
   "source": [
    "product_by_weekname = full_data.groupby(['product_id', 'week_name'])\\\n",
    "            .order_item_id.count()\\\n",
    "            .reset_index()\\\n",
    "            .rename(columns={'order_item_id' : 'count_product'})\\\n",
    "            .sort_values('count_product', ascending=False)\n",
    "\n",
    "product_by_weekname.head()"
   ]
  },
  {
   "cell_type": "markdown",
   "metadata": {
    "pycharm": {
     "name": "#%% md\n"
    }
   },
   "source": [
    "Создадим сводную таблицу, где в индексах идентификатор товара, в колонках дни недели и в значениях количество товара, купленное в этот день."
   ]
  },
  {
   "cell_type": "code",
   "execution_count": 33,
   "metadata": {
    "pycharm": {
     "name": "#%%\n"
    },
    "scrolled": false
   },
   "outputs": [
    {
     "data": {
      "text/html": [
       "<div>\n",
       "<style scoped>\n",
       "    .dataframe tbody tr th:only-of-type {\n",
       "        vertical-align: middle;\n",
       "    }\n",
       "\n",
       "    .dataframe tbody tr th {\n",
       "        vertical-align: top;\n",
       "    }\n",
       "\n",
       "    .dataframe thead th {\n",
       "        text-align: right;\n",
       "    }\n",
       "</style>\n",
       "<table border=\"1\" class=\"dataframe\">\n",
       "  <thead>\n",
       "    <tr style=\"text-align: right;\">\n",
       "      <th>week_name</th>\n",
       "      <th>Monday</th>\n",
       "      <th>Tuesday</th>\n",
       "      <th>Wednesday</th>\n",
       "      <th>Thursday</th>\n",
       "      <th>Friday</th>\n",
       "      <th>Saturday</th>\n",
       "      <th>Sunday</th>\n",
       "    </tr>\n",
       "    <tr>\n",
       "      <th>product_id</th>\n",
       "      <th></th>\n",
       "      <th></th>\n",
       "      <th></th>\n",
       "      <th></th>\n",
       "      <th></th>\n",
       "      <th></th>\n",
       "      <th></th>\n",
       "    </tr>\n",
       "  </thead>\n",
       "  <tbody>\n",
       "    <tr>\n",
       "      <th>99a4788cb24856965c36a24e339b6058</th>\n",
       "      <td>92.0</td>\n",
       "      <td>60.0</td>\n",
       "      <td>64.0</td>\n",
       "      <td>72.0</td>\n",
       "      <td>75.0</td>\n",
       "      <td>61.0</td>\n",
       "      <td>62.0</td>\n",
       "    </tr>\n",
       "    <tr>\n",
       "      <th>aca2eb7d00ea1a7b8ebd4e68314663af</th>\n",
       "      <td>78.0</td>\n",
       "      <td>85.0</td>\n",
       "      <td>74.0</td>\n",
       "      <td>89.0</td>\n",
       "      <td>87.0</td>\n",
       "      <td>59.0</td>\n",
       "      <td>55.0</td>\n",
       "    </tr>\n",
       "    <tr>\n",
       "      <th>422879e10f46682990de24d770e7f83d</th>\n",
       "      <td>64.0</td>\n",
       "      <td>67.0</td>\n",
       "      <td>93.0</td>\n",
       "      <td>79.0</td>\n",
       "      <td>77.0</td>\n",
       "      <td>57.0</td>\n",
       "      <td>47.0</td>\n",
       "    </tr>\n",
       "    <tr>\n",
       "      <th>d1c427060a0f73f6b889a5c7c61f2ac4</th>\n",
       "      <td>64.0</td>\n",
       "      <td>53.0</td>\n",
       "      <td>57.0</td>\n",
       "      <td>43.0</td>\n",
       "      <td>43.0</td>\n",
       "      <td>45.0</td>\n",
       "      <td>36.0</td>\n",
       "    </tr>\n",
       "    <tr>\n",
       "      <th>389d119b48cf3043d311335e499d9c6b</th>\n",
       "      <td>62.0</td>\n",
       "      <td>54.0</td>\n",
       "      <td>52.0</td>\n",
       "      <td>67.0</td>\n",
       "      <td>56.0</td>\n",
       "      <td>54.0</td>\n",
       "      <td>46.0</td>\n",
       "    </tr>\n",
       "  </tbody>\n",
       "</table>\n",
       "</div>"
      ],
      "text/plain": [
       "week_name                         Monday  Tuesday  Wednesday  Thursday  \\\n",
       "product_id                                                               \n",
       "99a4788cb24856965c36a24e339b6058    92.0     60.0       64.0      72.0   \n",
       "aca2eb7d00ea1a7b8ebd4e68314663af    78.0     85.0       74.0      89.0   \n",
       "422879e10f46682990de24d770e7f83d    64.0     67.0       93.0      79.0   \n",
       "d1c427060a0f73f6b889a5c7c61f2ac4    64.0     53.0       57.0      43.0   \n",
       "389d119b48cf3043d311335e499d9c6b    62.0     54.0       52.0      67.0   \n",
       "\n",
       "week_name                         Friday  Saturday  Sunday  \n",
       "product_id                                                  \n",
       "99a4788cb24856965c36a24e339b6058    75.0      61.0    62.0  \n",
       "aca2eb7d00ea1a7b8ebd4e68314663af    87.0      59.0    55.0  \n",
       "422879e10f46682990de24d770e7f83d    77.0      57.0    47.0  \n",
       "d1c427060a0f73f6b889a5c7c61f2ac4    43.0      45.0    36.0  \n",
       "389d119b48cf3043d311335e499d9c6b    56.0      54.0    46.0  "
      ]
     },
     "execution_count": 33,
     "metadata": {},
     "output_type": "execute_result"
    }
   ],
   "source": [
    "pivot_product_by_weekname = product_by_weekname\\\n",
    "            .pivot(index='product_id', columns='week_name', values='count_product').reset_index()\\\n",
    "            .fillna(0)\n",
    "            \n",
    "\n",
    "columns = ['product_id' , 'Monday', 'Tuesday', 'Wednesday', 'Thursday', 'Friday', 'Saturday', 'Sunday']\n",
    "\n",
    "pivot_product_by_weekname = pivot_product_by_weekname[columns]\\\n",
    "                .sort_values(['Monday', 'Tuesday', 'Wednesday', 'Thursday', 'Friday', 'Saturday', 'Sunday'],\\\n",
    "                             ascending=False).reset_index(drop=True).set_index('product_id')\n",
    "\n",
    "pivot_product_by_weekname.head(5)"
   ]
  },
  {
   "cell_type": "markdown",
   "metadata": {
    "pycharm": {
     "name": "#%% md\n"
    }
   },
   "source": [
    "Создадим итоговую таблицу dayweek_by_product, где для каждого товара указан день недели, когда товар покупается чаще."
   ]
  },
  {
   "cell_type": "code",
   "execution_count": 34,
   "metadata": {
    "pycharm": {
     "name": "#%%\n"
    }
   },
   "outputs": [
    {
     "data": {
      "text/html": [
       "<div>\n",
       "<style scoped>\n",
       "    .dataframe tbody tr th:only-of-type {\n",
       "        vertical-align: middle;\n",
       "    }\n",
       "\n",
       "    .dataframe tbody tr th {\n",
       "        vertical-align: top;\n",
       "    }\n",
       "\n",
       "    .dataframe thead th {\n",
       "        text-align: right;\n",
       "    }\n",
       "</style>\n",
       "<table border=\"1\" class=\"dataframe\">\n",
       "  <thead>\n",
       "    <tr style=\"text-align: right;\">\n",
       "      <th></th>\n",
       "      <th>product_id</th>\n",
       "      <th>day_of_week</th>\n",
       "    </tr>\n",
       "  </thead>\n",
       "  <tbody>\n",
       "    <tr>\n",
       "      <th>0</th>\n",
       "      <td>99a4788cb24856965c36a24e339b6058</td>\n",
       "      <td>Monday</td>\n",
       "    </tr>\n",
       "    <tr>\n",
       "      <th>1</th>\n",
       "      <td>aca2eb7d00ea1a7b8ebd4e68314663af</td>\n",
       "      <td>Thursday</td>\n",
       "    </tr>\n",
       "    <tr>\n",
       "      <th>2</th>\n",
       "      <td>422879e10f46682990de24d770e7f83d</td>\n",
       "      <td>Wednesday</td>\n",
       "    </tr>\n",
       "    <tr>\n",
       "      <th>3</th>\n",
       "      <td>d1c427060a0f73f6b889a5c7c61f2ac4</td>\n",
       "      <td>Monday</td>\n",
       "    </tr>\n",
       "    <tr>\n",
       "      <th>4</th>\n",
       "      <td>389d119b48cf3043d311335e499d9c6b</td>\n",
       "      <td>Thursday</td>\n",
       "    </tr>\n",
       "  </tbody>\n",
       "</table>\n",
       "</div>"
      ],
      "text/plain": [
       "                         product_id day_of_week\n",
       "0  99a4788cb24856965c36a24e339b6058      Monday\n",
       "1  aca2eb7d00ea1a7b8ebd4e68314663af    Thursday\n",
       "2  422879e10f46682990de24d770e7f83d   Wednesday\n",
       "3  d1c427060a0f73f6b889a5c7c61f2ac4      Monday\n",
       "4  389d119b48cf3043d311335e499d9c6b    Thursday"
      ]
     },
     "execution_count": 34,
     "metadata": {},
     "output_type": "execute_result"
    }
   ],
   "source": [
    "dayweek_by_product = pivot_product_by_weekname.idxmax(axis=1).reset_index().rename(columns={0: 'day_of_week'})\n",
    "dayweek_by_product.head()"
   ]
  },
  {
   "cell_type": "markdown",
   "metadata": {
    "pycharm": {
     "name": "#%% md\n"
    }
   },
   "source": [
    "Дополнительно создадим график количества покупок всех товаров по дням недели.\n",
    "Можно отметить, что в выходные у нас покупок осуществляется меньше, чем в будние дни."
   ]
  },
  {
   "cell_type": "code",
   "execution_count": 35,
   "metadata": {
    "pycharm": {
     "name": "#%%\n"
    }
   },
   "outputs": [],
   "source": [
    "product_by_weekname_plot = product_by_weekname.reset_index().groupby('week_name')\\\n",
    "                                    .count_product.count()\\\n",
    "                                    .reset_index()\\\n",
    "                                    .sort_values('count_product')"
   ]
  },
  {
   "cell_type": "code",
   "execution_count": 36,
   "metadata": {
    "pycharm": {
     "name": "#%%\n"
    }
   },
   "outputs": [
    {
     "data": {
      "image/png": "[encoded data removed]",
      "text/plain": [
       "<Figure size 1080x432 with 1 Axes>"
      ]
     },
     "metadata": {},
     "output_type": "display_data"
    }
   ],
   "source": [
    "sns.set(style=\"darkgrid\",\n",
    "        rc={\"figure.figsize\": (15, 6)})\n",
    "ax=sns.barplot(data=product_by_weekname_plot, x='week_name', y='count_product', lw=3, palette='rocket')\n",
    "plt.xticks(size=15)\n",
    "plt.title('Распределение количества товара по дням недели', fontsize=20)\n",
    "plt.xlabel('День недели', fontsize=20)\n",
    "plt.ylabel('Количество товара', fontsize=20)\n",
    "plt.grid\n",
    "sns.despine()\n",
    "plt.show()"
   ]
  },
  {
   "cell_type": "markdown",
   "metadata": {
    "pycharm": {
     "name": "#%% md\n"
    }
   },
   "source": [
    "### 4. Сколько у каждого из пользователей в среднем покупок в неделю (по месяцам)? Не стоит забывать, что внутри месяца может быть не целое количество недель. Например, в ноябре 2021 года 4,28 недели. И внутри метрики это нужно учесть."
   ]
  },
  {
   "cell_type": "markdown",
   "metadata": {
    "pycharm": {
     "name": "#%% md\n"
    }
   },
   "source": [
    "Начало наших данных и конец включают неполные месяцы, для корректного подсчета недель, возьмем только полные месяцы."
   ]
  },
  {
   "cell_type": "code",
   "execution_count": 37,
   "metadata": {
    "pycharm": {
     "name": "#%%\n"
    }
   },
   "outputs": [
    {
     "data": {
      "text/plain": [
       "Timestamp('2016-09-04 21:15:19')"
      ]
     },
     "execution_count": 37,
     "metadata": {},
     "output_type": "execute_result"
    }
   ],
   "source": [
    "full_data['order_purchase_timestamp'].min()"
   ]
  },
  {
   "cell_type": "code",
   "execution_count": 38,
   "metadata": {
    "pycharm": {
     "name": "#%%\n"
    }
   },
   "outputs": [
    {
     "data": {
      "text/plain": [
       "Timestamp('2018-09-03 09:06:57')"
      ]
     },
     "execution_count": 38,
     "metadata": {},
     "output_type": "execute_result"
    }
   ],
   "source": [
    "full_data['order_purchase_timestamp'].max()"
   ]
  },
  {
   "cell_type": "code",
   "execution_count": 39,
   "metadata": {
    "pycharm": {
     "name": "#%%\n"
    }
   },
   "outputs": [],
   "source": [
    "full_data_mean = full_data\\\n",
    "                .query('order_purchase_timestamp >= \"2016-10-01\" and order_purchase_timestamp < \"2018-09-01\"')"
   ]
  },
  {
   "cell_type": "markdown",
   "metadata": {
    "pycharm": {
     "name": "#%% md\n"
    }
   },
   "source": [
    "Сгруппируем данные full_data по индентификатору пользователя customer_id и и времени оформления заказа month_create_order и подсчитаем количество таких заказов, удалим индексы и отсортируем по возрастанию month_create_order."
   ]
  },
  {
   "cell_type": "code",
   "execution_count": 40,
   "metadata": {
    "pycharm": {
     "name": "#%%\n"
    }
   },
   "outputs": [],
   "source": [
    "order_by_week = full_data_mean.groupby(['customer_id', 'month_create_order'])\\\n",
    "                                        .order_id.count()\\\n",
    "                                        .reset_index()\\\n",
    "                                        .sort_values('month_create_order')"
   ]
  },
  {
   "cell_type": "markdown",
   "metadata": {
    "pycharm": {
     "name": "#%% md\n"
    }
   },
   "source": [
    "Создадим столбец order_by_week со среднем количеством покупок в неделю для каждого месяца и каждого пользователя."
   ]
  },
  {
   "cell_type": "code",
   "execution_count": 41,
   "metadata": {
    "pycharm": {
     "name": "#%%\n"
    }
   },
   "outputs": [
    {
     "data": {
      "text/html": [
       "<div>\n",
       "<style scoped>\n",
       "    .dataframe tbody tr th:only-of-type {\n",
       "        vertical-align: middle;\n",
       "    }\n",
       "\n",
       "    .dataframe tbody tr th {\n",
       "        vertical-align: top;\n",
       "    }\n",
       "\n",
       "    .dataframe thead th {\n",
       "        text-align: right;\n",
       "    }\n",
       "</style>\n",
       "<table border=\"1\" class=\"dataframe\">\n",
       "  <thead>\n",
       "    <tr style=\"text-align: right;\">\n",
       "      <th></th>\n",
       "      <th>customer_id</th>\n",
       "      <th>month_create_order</th>\n",
       "      <th>order_id</th>\n",
       "      <th>order_by_week</th>\n",
       "    </tr>\n",
       "  </thead>\n",
       "  <tbody>\n",
       "    <tr>\n",
       "      <th>35009</th>\n",
       "      <td>5bef68c4d2d04c09aee2195ff540f131</td>\n",
       "      <td>2016-10</td>\n",
       "      <td>1</td>\n",
       "      <td>0.225806</td>\n",
       "    </tr>\n",
       "    <tr>\n",
       "      <th>5807</th>\n",
       "      <td>0f51eea87ae9e277d0f099d51637772d</td>\n",
       "      <td>2016-10</td>\n",
       "      <td>1</td>\n",
       "      <td>0.225806</td>\n",
       "    </tr>\n",
       "    <tr>\n",
       "      <th>68649</th>\n",
       "      <td>b30a4d09f171b5da553bab49a0a61764</td>\n",
       "      <td>2016-10</td>\n",
       "      <td>1</td>\n",
       "      <td>0.225806</td>\n",
       "    </tr>\n",
       "    <tr>\n",
       "      <th>671</th>\n",
       "      <td>01be2c0c2d55c597b5ec011e26e4b0d1</td>\n",
       "      <td>2016-10</td>\n",
       "      <td>1</td>\n",
       "      <td>0.225806</td>\n",
       "    </tr>\n",
       "    <tr>\n",
       "      <th>57706</th>\n",
       "      <td>96fc2a988f8ec40a078ab92f1623bdd4</td>\n",
       "      <td>2016-10</td>\n",
       "      <td>1</td>\n",
       "      <td>0.225806</td>\n",
       "    </tr>\n",
       "  </tbody>\n",
       "</table>\n",
       "</div>"
      ],
      "text/plain": [
       "                            customer_id month_create_order  order_id  \\\n",
       "35009  5bef68c4d2d04c09aee2195ff540f131            2016-10         1   \n",
       "5807   0f51eea87ae9e277d0f099d51637772d            2016-10         1   \n",
       "68649  b30a4d09f171b5da553bab49a0a61764            2016-10         1   \n",
       "671    01be2c0c2d55c597b5ec011e26e4b0d1            2016-10         1   \n",
       "57706  96fc2a988f8ec40a078ab92f1623bdd4            2016-10         1   \n",
       "\n",
       "       order_by_week  \n",
       "35009       0.225806  \n",
       "5807        0.225806  \n",
       "68649       0.225806  \n",
       "671         0.225806  \n",
       "57706       0.225806  "
      ]
     },
     "execution_count": 41,
     "metadata": {},
     "output_type": "execute_result"
    }
   ],
   "source": [
    "order_by_week['order_by_week'] = order_by_week.order_id / \\\n",
    "                (pd.to_datetime(order_by_week.month_create_order).dt.daysinmonth / 7)\n",
    "\n",
    "order_by_week.head()"
   ]
  },
  {
   "cell_type": "markdown",
   "metadata": {
    "pycharm": {
     "name": "#%% md\n"
    }
   },
   "source": [
    "Из полученной таблицы order_by_week сгруппируем данные по пользователю и найдем среднее количество заказов в неделю, отсортируем и удалим индексы, далее выберем только тех пользователей, у которых в среднем два и более заказов в неделю."
   ]
  },
  {
   "cell_type": "code",
   "execution_count": 42,
   "metadata": {
    "pycharm": {
     "name": "#%%\n"
    }
   },
   "outputs": [
    {
     "name": "stdout",
     "output_type": "stream",
     "text": [
      "Количество пользователей, у которых в среднем в неделю 2 и более заказа: 28\n"
     ]
    }
   ],
   "source": [
    "total_order_by_week = order_by_week.groupby('customer_id')\\\n",
    "                                            .order_by_week.mean()\\\n",
    "                                            .sort_values(ascending=False)\\\n",
    "                                            .reset_index()\n",
    "\n",
    "mean_orders = len(total_order_by_week.loc[total_order_by_week['order_by_week'] >= 2])\n",
    "\n",
    "print('Количество пользователей, у которых в среднем в неделю 2 и более заказа:', mean_orders)"
   ]
  },
  {
   "cell_type": "markdown",
   "metadata": {
    "pycharm": {
     "name": "#%% md\n"
    }
   },
   "source": [
    "На графике можно отметить, что в декабре 2016 у нас был резкий спад по среднему количеству заказов в неделю, что может говорить о специфике бизнеса. Характерно так же, что в феврале 2017 и 2018 годов у нас самые большие значения среднего количества заказов в неделю, что может говорить о сезонности нашего продукта. Это подтверждает так же незначительное, но снижение метрики в декабре 2017."
   ]
  },
  {
   "cell_type": "code",
   "execution_count": 43,
   "metadata": {
    "pycharm": {
     "name": "#%%\n"
    }
   },
   "outputs": [
    {
     "data": {
      "image/png": "[encoded data removed]",
      "text/plain": [
       "<Figure size 1584x576 with 1 Axes>"
      ]
     },
     "metadata": {},
     "output_type": "display_data"
    }
   ],
   "source": [
    "sns.set(style=\"darkgrid\",\n",
    "        rc={\"figure.figsize\": (22, 8)})\n",
    "\n",
    "ax=sns.lineplot(data=order_by_week.sort_values('month_create_order'),\n",
    "                x='month_create_order', y='order_by_week', lw=3, color='#6c2b6d')\n",
    "plt.xticks(rotation=45, size=15)\n",
    "plt.yticks(size=15)\n",
    "plt.title('Распределение среднего количества заказов в неделю по месяцам', fontsize=20)\n",
    "plt.xlabel('Дата создания заказа', fontsize=20)\n",
    "plt.ylabel('Среднее количество заказов в неделю', fontsize=20)\n",
    "plt.grid\n",
    "sns.despine()\n",
    "plt.show()"
   ]
  },
  {
   "cell_type": "markdown",
   "metadata": {
    "pycharm": {
     "name": "#%% md\n"
    }
   },
   "source": [
    "### 5. Используя pandas, проведем когортный анализ пользователей. В период с января по декабрь выявим когорту с самым высоким retention на 3-й месяц."
   ]
  },
  {
   "cell_type": "markdown",
   "metadata": {
    "pycharm": {
     "name": "#%% md\n"
    }
   },
   "source": [
    "Возьмем отсчет для нашего исследования с начала 2017 года, добавим немного из 2018 года, чтобы оценить когорты, которые идут последними в 2017 году."
   ]
  },
  {
   "cell_type": "code",
   "execution_count": 44,
   "metadata": {
    "pycharm": {
     "name": "#%%\n"
    }
   },
   "outputs": [],
   "source": [
    "min_date = '2017-01-01'\n",
    "max_date = '2018-05-01'"
   ]
  },
  {
   "cell_type": "code",
   "execution_count": 45,
   "metadata": {
    "pycharm": {
     "name": "#%%\n"
    },
    "scrolled": true
   },
   "outputs": [
    {
     "data": {
      "text/html": [
       "<div>\n",
       "<style scoped>\n",
       "    .dataframe tbody tr th:only-of-type {\n",
       "        vertical-align: middle;\n",
       "    }\n",
       "\n",
       "    .dataframe tbody tr th {\n",
       "        vertical-align: top;\n",
       "    }\n",
       "\n",
       "    .dataframe thead th {\n",
       "        text-align: right;\n",
       "    }\n",
       "</style>\n",
       "<table border=\"1\" class=\"dataframe\">\n",
       "  <thead>\n",
       "    <tr style=\"text-align: right;\">\n",
       "      <th></th>\n",
       "      <th>customer_id</th>\n",
       "      <th>customer_unique_id</th>\n",
       "      <th>customer_zip_code_prefix</th>\n",
       "      <th>customer_city</th>\n",
       "      <th>customer_state</th>\n",
       "      <th>order_id</th>\n",
       "      <th>order_status</th>\n",
       "      <th>order_purchase_timestamp</th>\n",
       "      <th>order_approved_at</th>\n",
       "      <th>order_delivered_carrier_date</th>\n",
       "      <th>order_delivered_customer_date</th>\n",
       "      <th>order_estimated_delivery_date</th>\n",
       "      <th>month_create_order</th>\n",
       "      <th>order_item_id</th>\n",
       "      <th>product_id</th>\n",
       "      <th>seller_id</th>\n",
       "      <th>shipping_limit_date</th>\n",
       "      <th>price</th>\n",
       "      <th>freight_value</th>\n",
       "      <th>week_name</th>\n",
       "    </tr>\n",
       "  </thead>\n",
       "  <tbody>\n",
       "    <tr>\n",
       "      <th>0</th>\n",
       "      <td>06b8999e2fba1a1fbc88172c00ba8bc7</td>\n",
       "      <td>861eff4711a542e4b93843c6dd7febb0</td>\n",
       "      <td>14409</td>\n",
       "      <td>franca</td>\n",
       "      <td>SP</td>\n",
       "      <td>00e7ee1b050b8499577073aeb2a297a1</td>\n",
       "      <td>delivered</td>\n",
       "      <td>2017-05-16 15:05:35</td>\n",
       "      <td>2017-05-16 15:22:12</td>\n",
       "      <td>2017-05-23 10:47:57</td>\n",
       "      <td>2017-05-25 10:35:35</td>\n",
       "      <td>2017-06-05</td>\n",
       "      <td>2017-05</td>\n",
       "      <td>1</td>\n",
       "      <td>a9516a079e37a9c9c36b9b78b10169e8</td>\n",
       "      <td>7c67e1448b00f6e969d365cea6b010ab</td>\n",
       "      <td>2017-05-22 15:22:12</td>\n",
       "      <td>124.99</td>\n",
       "      <td>21.88</td>\n",
       "      <td>Tuesday</td>\n",
       "    </tr>\n",
       "    <tr>\n",
       "      <th>1</th>\n",
       "      <td>18955e83d337fd6b2def6b18a428ac77</td>\n",
       "      <td>290c77bc529b7ac935b93aa66c333dc3</td>\n",
       "      <td>9790</td>\n",
       "      <td>sao bernardo do campo</td>\n",
       "      <td>SP</td>\n",
       "      <td>29150127e6685892b6eab3eec79f59c7</td>\n",
       "      <td>delivered</td>\n",
       "      <td>2018-01-12 20:48:24</td>\n",
       "      <td>2018-01-12 20:58:32</td>\n",
       "      <td>2018-01-15 17:14:59</td>\n",
       "      <td>2018-01-29 12:41:19</td>\n",
       "      <td>2018-02-06</td>\n",
       "      <td>2018-01</td>\n",
       "      <td>1</td>\n",
       "      <td>4aa6014eceb682077f9dc4bffebc05b0</td>\n",
       "      <td>b8bc237ba3788b23da09c0f1f3a3288c</td>\n",
       "      <td>2018-01-18 20:58:32</td>\n",
       "      <td>289.00</td>\n",
       "      <td>46.48</td>\n",
       "      <td>Friday</td>\n",
       "    </tr>\n",
       "    <tr>\n",
       "      <th>2</th>\n",
       "      <td>4e7b3e00288586ebd08712fdd0374a03</td>\n",
       "      <td>060e732b5b29e8181a18229c7b0b2b5e</td>\n",
       "      <td>1151</td>\n",
       "      <td>sao paulo</td>\n",
       "      <td>SP</td>\n",
       "      <td>b2059ed67ce144a36e2aa97d2c9e9ad2</td>\n",
       "      <td>delivered</td>\n",
       "      <td>2018-05-19 16:07:45</td>\n",
       "      <td>2018-05-20 16:19:10</td>\n",
       "      <td>2018-06-11 14:31:00</td>\n",
       "      <td>2018-06-14 17:58:51</td>\n",
       "      <td>2018-06-13</td>\n",
       "      <td>2018-05</td>\n",
       "      <td>1</td>\n",
       "      <td>bd07b66896d6f1494f5b86251848ced7</td>\n",
       "      <td>7c67e1448b00f6e969d365cea6b010ab</td>\n",
       "      <td>2018-06-05 16:19:10</td>\n",
       "      <td>139.94</td>\n",
       "      <td>17.79</td>\n",
       "      <td>Saturday</td>\n",
       "    </tr>\n",
       "    <tr>\n",
       "      <th>3</th>\n",
       "      <td>b2b6027bc5c5109e529d4dc6358b12c3</td>\n",
       "      <td>259dac757896d24d7702b9acbbff3f3c</td>\n",
       "      <td>8775</td>\n",
       "      <td>mogi das cruzes</td>\n",
       "      <td>SP</td>\n",
       "      <td>951670f92359f4fe4a63112aa7306eba</td>\n",
       "      <td>delivered</td>\n",
       "      <td>2018-03-13 16:06:38</td>\n",
       "      <td>2018-03-13 17:29:19</td>\n",
       "      <td>2018-03-27 23:22:42</td>\n",
       "      <td>2018-03-28 16:04:25</td>\n",
       "      <td>2018-04-10</td>\n",
       "      <td>2018-03</td>\n",
       "      <td>1</td>\n",
       "      <td>a5647c44af977b148e0a3a4751a09e2e</td>\n",
       "      <td>7c67e1448b00f6e969d365cea6b010ab</td>\n",
       "      <td>2018-03-27 16:31:16</td>\n",
       "      <td>149.94</td>\n",
       "      <td>23.36</td>\n",
       "      <td>Tuesday</td>\n",
       "    </tr>\n",
       "    <tr>\n",
       "      <th>4</th>\n",
       "      <td>4f2d8ab171c80ec8364f7c12e35b23ad</td>\n",
       "      <td>345ecd01c38d18a9036ed96c73b8d066</td>\n",
       "      <td>13056</td>\n",
       "      <td>campinas</td>\n",
       "      <td>SP</td>\n",
       "      <td>6b7d50bd145f6fc7f33cebabd7e49d0f</td>\n",
       "      <td>delivered</td>\n",
       "      <td>2018-07-29 09:51:30</td>\n",
       "      <td>2018-07-29 10:10:09</td>\n",
       "      <td>2018-07-30 15:16:00</td>\n",
       "      <td>2018-08-09 20:55:48</td>\n",
       "      <td>2018-08-15</td>\n",
       "      <td>2018-07</td>\n",
       "      <td>1</td>\n",
       "      <td>9391a573abe00141c56e38d84d7d5b3b</td>\n",
       "      <td>4a3ca9315b744ce9f8e9374361493884</td>\n",
       "      <td>2018-07-31 10:10:09</td>\n",
       "      <td>230.00</td>\n",
       "      <td>22.25</td>\n",
       "      <td>Sunday</td>\n",
       "    </tr>\n",
       "  </tbody>\n",
       "</table>\n",
       "</div>"
      ],
      "text/plain": [
       "                        customer_id                customer_unique_id  \\\n",
       "0  06b8999e2fba1a1fbc88172c00ba8bc7  861eff4711a542e4b93843c6dd7febb0   \n",
       "1  18955e83d337fd6b2def6b18a428ac77  290c77bc529b7ac935b93aa66c333dc3   \n",
       "2  4e7b3e00288586ebd08712fdd0374a03  060e732b5b29e8181a18229c7b0b2b5e   \n",
       "3  b2b6027bc5c5109e529d4dc6358b12c3  259dac757896d24d7702b9acbbff3f3c   \n",
       "4  4f2d8ab171c80ec8364f7c12e35b23ad  345ecd01c38d18a9036ed96c73b8d066   \n",
       "\n",
       "   customer_zip_code_prefix          customer_city customer_state  \\\n",
       "0                     14409                 franca             SP   \n",
       "1                      9790  sao bernardo do campo             SP   \n",
       "2                      1151              sao paulo             SP   \n",
       "3                      8775        mogi das cruzes             SP   \n",
       "4                     13056               campinas             SP   \n",
       "\n",
       "                           order_id order_status order_purchase_timestamp  \\\n",
       "0  00e7ee1b050b8499577073aeb2a297a1    delivered      2017-05-16 15:05:35   \n",
       "1  29150127e6685892b6eab3eec79f59c7    delivered      2018-01-12 20:48:24   \n",
       "2  b2059ed67ce144a36e2aa97d2c9e9ad2    delivered      2018-05-19 16:07:45   \n",
       "3  951670f92359f4fe4a63112aa7306eba    delivered      2018-03-13 16:06:38   \n",
       "4  6b7d50bd145f6fc7f33cebabd7e49d0f    delivered      2018-07-29 09:51:30   \n",
       "\n",
       "    order_approved_at order_delivered_carrier_date  \\\n",
       "0 2017-05-16 15:22:12          2017-05-23 10:47:57   \n",
       "1 2018-01-12 20:58:32          2018-01-15 17:14:59   \n",
       "2 2018-05-20 16:19:10          2018-06-11 14:31:00   \n",
       "3 2018-03-13 17:29:19          2018-03-27 23:22:42   \n",
       "4 2018-07-29 10:10:09          2018-07-30 15:16:00   \n",
       "\n",
       "  order_delivered_customer_date order_estimated_delivery_date  \\\n",
       "0           2017-05-25 10:35:35                    2017-06-05   \n",
       "1           2018-01-29 12:41:19                    2018-02-06   \n",
       "2           2018-06-14 17:58:51                    2018-06-13   \n",
       "3           2018-03-28 16:04:25                    2018-04-10   \n",
       "4           2018-08-09 20:55:48                    2018-08-15   \n",
       "\n",
       "  month_create_order  order_item_id                        product_id  \\\n",
       "0            2017-05              1  a9516a079e37a9c9c36b9b78b10169e8   \n",
       "1            2018-01              1  4aa6014eceb682077f9dc4bffebc05b0   \n",
       "2            2018-05              1  bd07b66896d6f1494f5b86251848ced7   \n",
       "3            2018-03              1  a5647c44af977b148e0a3a4751a09e2e   \n",
       "4            2018-07              1  9391a573abe00141c56e38d84d7d5b3b   \n",
       "\n",
       "                          seller_id shipping_limit_date   price  \\\n",
       "0  7c67e1448b00f6e969d365cea6b010ab 2017-05-22 15:22:12  124.99   \n",
       "1  b8bc237ba3788b23da09c0f1f3a3288c 2018-01-18 20:58:32  289.00   \n",
       "2  7c67e1448b00f6e969d365cea6b010ab 2018-06-05 16:19:10  139.94   \n",
       "3  7c67e1448b00f6e969d365cea6b010ab 2018-03-27 16:31:16  149.94   \n",
       "4  4a3ca9315b744ce9f8e9374361493884 2018-07-31 10:10:09  230.00   \n",
       "\n",
       "   freight_value week_name  \n",
       "0          21.88   Tuesday  \n",
       "1          46.48    Friday  \n",
       "2          17.79  Saturday  \n",
       "3          23.36   Tuesday  \n",
       "4          22.25    Sunday  "
      ]
     },
     "execution_count": 45,
     "metadata": {},
     "output_type": "execute_result"
    }
   ],
   "source": [
    "full_data.head()"
   ]
  },
  {
   "cell_type": "markdown",
   "metadata": {
    "pycharm": {
     "name": "#%% md\n"
    }
   },
   "source": [
    "Создадим таблицу для удобства с двумя столбцами идентификатором пользователя customer_unique_id и временем оплаты за покупку. Выберем из данных нужный нам прмежуток, который мы задали выше, удалим индексы."
   ]
  },
  {
   "cell_type": "code",
   "execution_count": 46,
   "metadata": {
    "pycharm": {
     "name": "#%%\n"
    }
   },
   "outputs": [],
   "source": [
    "df = full_data[['customer_unique_id', 'order_approved_at']]\n",
    "df = df\\\n",
    "    .query('order_approved_at >= @min_date and order_approved_at <= @max_date')\\\n",
    "    .reset_index(drop=True)"
   ]
  },
  {
   "cell_type": "markdown",
   "metadata": {
    "pycharm": {
     "name": "#%% md\n"
    }
   },
   "source": [
    "Добавим столбец order_purchase_date, где будет указан только год и месяц оплаты покупки."
   ]
  },
  {
   "cell_type": "code",
   "execution_count": 47,
   "metadata": {
    "pycharm": {
     "name": "#%%\n"
    }
   },
   "outputs": [],
   "source": [
    "df['order_purchase_date'] = df.order_approved_at\\\n",
    "                            .apply(lambda x: x.strftime('%Y-%m'))"
   ]
  },
  {
   "cell_type": "markdown",
   "metadata": {
    "pycharm": {
     "name": "#%% md\n"
    }
   },
   "source": [
    "Переведем customer_unique_id в индексы, чтобы мы смогли добавить новый столбец. Для каждого пользователя добавим в строку первую дату оплаты покупки, это будет first_purchase_date, удалим из индекса идентификатор пользователя и добавим столбец total_orders, пока заполненный нулями."
   ]
  },
  {
   "cell_type": "code",
   "execution_count": 48,
   "metadata": {
    "pycharm": {
     "name": "#%%\n"
    }
   },
   "outputs": [],
   "source": [
    "df.set_index('customer_unique_id', inplace=True)\n",
    "df['first_purchase_date'] = df.groupby('customer_unique_id')['order_approved_at']\\\n",
    "                                    .min()\\\n",
    "                                    .apply(lambda x: x.strftime('%Y-%m'))\n",
    "df = df.reset_index()\n",
    "df['total_orders'] = 0"
   ]
  },
  {
   "cell_type": "code",
   "execution_count": 49,
   "metadata": {
    "pycharm": {
     "name": "#%%\n"
    }
   },
   "outputs": [
    {
     "data": {
      "text/html": [
       "<div>\n",
       "<style scoped>\n",
       "    .dataframe tbody tr th:only-of-type {\n",
       "        vertical-align: middle;\n",
       "    }\n",
       "\n",
       "    .dataframe tbody tr th {\n",
       "        vertical-align: top;\n",
       "    }\n",
       "\n",
       "    .dataframe thead th {\n",
       "        text-align: right;\n",
       "    }\n",
       "</style>\n",
       "<table border=\"1\" class=\"dataframe\">\n",
       "  <thead>\n",
       "    <tr style=\"text-align: right;\">\n",
       "      <th></th>\n",
       "      <th>customer_unique_id</th>\n",
       "      <th>order_approved_at</th>\n",
       "      <th>order_purchase_date</th>\n",
       "      <th>first_purchase_date</th>\n",
       "      <th>total_orders</th>\n",
       "    </tr>\n",
       "  </thead>\n",
       "  <tbody>\n",
       "    <tr>\n",
       "      <th>0</th>\n",
       "      <td>861eff4711a542e4b93843c6dd7febb0</td>\n",
       "      <td>2017-05-16 15:22:12</td>\n",
       "      <td>2017-05</td>\n",
       "      <td>2017-05</td>\n",
       "      <td>0</td>\n",
       "    </tr>\n",
       "    <tr>\n",
       "      <th>1</th>\n",
       "      <td>290c77bc529b7ac935b93aa66c333dc3</td>\n",
       "      <td>2018-01-12 20:58:32</td>\n",
       "      <td>2018-01</td>\n",
       "      <td>2018-01</td>\n",
       "      <td>0</td>\n",
       "    </tr>\n",
       "    <tr>\n",
       "      <th>2</th>\n",
       "      <td>259dac757896d24d7702b9acbbff3f3c</td>\n",
       "      <td>2018-03-13 17:29:19</td>\n",
       "      <td>2018-03</td>\n",
       "      <td>2018-03</td>\n",
       "      <td>0</td>\n",
       "    </tr>\n",
       "    <tr>\n",
       "      <th>3</th>\n",
       "      <td>4c93744516667ad3b8f1fb645a3116a4</td>\n",
       "      <td>2017-09-14 18:25:11</td>\n",
       "      <td>2017-09</td>\n",
       "      <td>2017-09</td>\n",
       "      <td>0</td>\n",
       "    </tr>\n",
       "    <tr>\n",
       "      <th>4</th>\n",
       "      <td>addec96d2e059c80c30fe6871d30d177</td>\n",
       "      <td>2018-02-19 14:50:37</td>\n",
       "      <td>2018-02</td>\n",
       "      <td>2018-02</td>\n",
       "      <td>0</td>\n",
       "    </tr>\n",
       "  </tbody>\n",
       "</table>\n",
       "</div>"
      ],
      "text/plain": [
       "                 customer_unique_id   order_approved_at order_purchase_date  \\\n",
       "0  861eff4711a542e4b93843c6dd7febb0 2017-05-16 15:22:12             2017-05   \n",
       "1  290c77bc529b7ac935b93aa66c333dc3 2018-01-12 20:58:32             2018-01   \n",
       "2  259dac757896d24d7702b9acbbff3f3c 2018-03-13 17:29:19             2018-03   \n",
       "3  4c93744516667ad3b8f1fb645a3116a4 2017-09-14 18:25:11             2017-09   \n",
       "4  addec96d2e059c80c30fe6871d30d177 2018-02-19 14:50:37             2018-02   \n",
       "\n",
       "  first_purchase_date  total_orders  \n",
       "0             2017-05             0  \n",
       "1             2018-01             0  \n",
       "2             2018-03             0  \n",
       "3             2017-09             0  \n",
       "4             2018-02             0  "
      ]
     },
     "execution_count": 49,
     "metadata": {},
     "output_type": "execute_result"
    }
   ],
   "source": [
    "df.head()"
   ]
  },
  {
   "cell_type": "markdown",
   "metadata": {
    "pycharm": {
     "name": "#%% md\n"
    }
   },
   "source": [
    "Создадим наши когорты, сгруппировав данные по первой оплате и по оплатам в общем, выведем количество уникальных пользователей и количество заказов. Перееименуем их в users и orders."
   ]
  },
  {
   "cell_type": "code",
   "execution_count": 50,
   "metadata": {
    "pycharm": {
     "name": "#%%\n"
    },
    "scrolled": true
   },
   "outputs": [
    {
     "data": {
      "text/html": [
       "<div>\n",
       "<style scoped>\n",
       "    .dataframe tbody tr th:only-of-type {\n",
       "        vertical-align: middle;\n",
       "    }\n",
       "\n",
       "    .dataframe tbody tr th {\n",
       "        vertical-align: top;\n",
       "    }\n",
       "\n",
       "    .dataframe thead th {\n",
       "        text-align: right;\n",
       "    }\n",
       "</style>\n",
       "<table border=\"1\" class=\"dataframe\">\n",
       "  <thead>\n",
       "    <tr style=\"text-align: right;\">\n",
       "      <th></th>\n",
       "      <th></th>\n",
       "      <th>users</th>\n",
       "      <th>orders</th>\n",
       "    </tr>\n",
       "    <tr>\n",
       "      <th>first_purchase_date</th>\n",
       "      <th>order_purchase_date</th>\n",
       "      <th></th>\n",
       "      <th></th>\n",
       "    </tr>\n",
       "  </thead>\n",
       "  <tbody>\n",
       "    <tr>\n",
       "      <th rowspan=\"10\" valign=\"top\">2017-01</th>\n",
       "      <th>2017-01</th>\n",
       "      <td>706</td>\n",
       "      <td>895</td>\n",
       "    </tr>\n",
       "    <tr>\n",
       "      <th>2017-02</th>\n",
       "      <td>4</td>\n",
       "      <td>4</td>\n",
       "    </tr>\n",
       "    <tr>\n",
       "      <th>2017-03</th>\n",
       "      <td>2</td>\n",
       "      <td>2</td>\n",
       "    </tr>\n",
       "    <tr>\n",
       "      <th>2017-04</th>\n",
       "      <td>1</td>\n",
       "      <td>1</td>\n",
       "    </tr>\n",
       "    <tr>\n",
       "      <th>2017-05</th>\n",
       "      <td>3</td>\n",
       "      <td>3</td>\n",
       "    </tr>\n",
       "    <tr>\n",
       "      <th>2017-06</th>\n",
       "      <td>1</td>\n",
       "      <td>1</td>\n",
       "    </tr>\n",
       "    <tr>\n",
       "      <th>2017-07</th>\n",
       "      <td>3</td>\n",
       "      <td>5</td>\n",
       "    </tr>\n",
       "    <tr>\n",
       "      <th>2017-08</th>\n",
       "      <td>1</td>\n",
       "      <td>2</td>\n",
       "    </tr>\n",
       "    <tr>\n",
       "      <th>2017-09</th>\n",
       "      <td>1</td>\n",
       "      <td>1</td>\n",
       "    </tr>\n",
       "    <tr>\n",
       "      <th>2017-11</th>\n",
       "      <td>2</td>\n",
       "      <td>2</td>\n",
       "    </tr>\n",
       "  </tbody>\n",
       "</table>\n",
       "</div>"
      ],
      "text/plain": [
       "                                         users  orders\n",
       "first_purchase_date order_purchase_date               \n",
       "2017-01             2017-01                706     895\n",
       "                    2017-02                  4       4\n",
       "                    2017-03                  2       2\n",
       "                    2017-04                  1       1\n",
       "                    2017-05                  3       3\n",
       "                    2017-06                  1       1\n",
       "                    2017-07                  3       5\n",
       "                    2017-08                  1       2\n",
       "                    2017-09                  1       1\n",
       "                    2017-11                  2       2"
      ]
     },
     "execution_count": 50,
     "metadata": {},
     "output_type": "execute_result"
    }
   ],
   "source": [
    "cohorts = df.groupby(['first_purchase_date', 'order_purchase_date'])\\\n",
    "                                            .agg({'customer_unique_id': 'nunique',\n",
    "                                                  'total_orders': 'count'})\\\n",
    "                                            .rename(columns={'customer_unique_id': 'users',\n",
    "                                                             'total_orders': 'orders'})\n",
    "\n",
    "cohorts.head(10)"
   ]
  },
  {
   "cell_type": "markdown",
   "metadata": {
    "pycharm": {
     "name": "#%% md\n"
    }
   },
   "source": [
    "Создадим функцию, которая выведет месяцы, по диапазону окна в когорте."
   ]
  },
  {
   "cell_type": "code",
   "execution_count": 51,
   "metadata": {
    "pycharm": {
     "name": "#%%\n"
    },
    "scrolled": true
   },
   "outputs": [
    {
     "data": {
      "text/html": [
       "<div>\n",
       "<style scoped>\n",
       "    .dataframe tbody tr th:only-of-type {\n",
       "        vertical-align: middle;\n",
       "    }\n",
       "\n",
       "    .dataframe tbody tr th {\n",
       "        vertical-align: top;\n",
       "    }\n",
       "\n",
       "    .dataframe thead th {\n",
       "        text-align: right;\n",
       "    }\n",
       "</style>\n",
       "<table border=\"1\" class=\"dataframe\">\n",
       "  <thead>\n",
       "    <tr style=\"text-align: right;\">\n",
       "      <th></th>\n",
       "      <th></th>\n",
       "      <th>users</th>\n",
       "      <th>orders</th>\n",
       "      <th>month</th>\n",
       "    </tr>\n",
       "    <tr>\n",
       "      <th>first_purchase_date</th>\n",
       "      <th>order_purchase_date</th>\n",
       "      <th></th>\n",
       "      <th></th>\n",
       "      <th></th>\n",
       "    </tr>\n",
       "  </thead>\n",
       "  <tbody>\n",
       "    <tr>\n",
       "      <th rowspan=\"5\" valign=\"top\">2017-01</th>\n",
       "      <th>2017-01</th>\n",
       "      <td>706</td>\n",
       "      <td>895</td>\n",
       "      <td>0</td>\n",
       "    </tr>\n",
       "    <tr>\n",
       "      <th>2017-02</th>\n",
       "      <td>4</td>\n",
       "      <td>4</td>\n",
       "      <td>1</td>\n",
       "    </tr>\n",
       "    <tr>\n",
       "      <th>2017-03</th>\n",
       "      <td>2</td>\n",
       "      <td>2</td>\n",
       "      <td>2</td>\n",
       "    </tr>\n",
       "    <tr>\n",
       "      <th>2017-04</th>\n",
       "      <td>1</td>\n",
       "      <td>1</td>\n",
       "      <td>3</td>\n",
       "    </tr>\n",
       "    <tr>\n",
       "      <th>2017-05</th>\n",
       "      <td>3</td>\n",
       "      <td>3</td>\n",
       "      <td>4</td>\n",
       "    </tr>\n",
       "  </tbody>\n",
       "</table>\n",
       "</div>"
      ],
      "text/plain": [
       "                                         users  orders  month\n",
       "first_purchase_date order_purchase_date                      \n",
       "2017-01             2017-01                706     895      0\n",
       "                    2017-02                  4       4      1\n",
       "                    2017-03                  2       2      2\n",
       "                    2017-04                  1       1      3\n",
       "                    2017-05                  3       3      4"
      ]
     },
     "execution_count": 51,
     "metadata": {},
     "output_type": "execute_result"
    }
   ],
   "source": [
    "def cohort_month(df):\n",
    "    df['month'] = np.arange(len(df))\n",
    "    return df\n",
    "\n",
    "cohorts = cohorts.groupby('first_purchase_date').apply(cohort_month)\n",
    "cohorts.head()"
   ]
  },
  {
   "cell_type": "markdown",
   "metadata": {
    "pycharm": {
     "name": "#%% md\n"
    }
   },
   "source": [
    "Заменим индексы на месяц month и когорту first_purchase_date."
   ]
  },
  {
   "cell_type": "code",
   "execution_count": 52,
   "metadata": {
    "scrolled": true,
    "pycharm": {
     "name": "#%%\n"
    }
   },
   "outputs": [
    {
     "data": {
      "text/html": [
       "<div>\n",
       "<style scoped>\n",
       "    .dataframe tbody tr th:only-of-type {\n",
       "        vertical-align: middle;\n",
       "    }\n",
       "\n",
       "    .dataframe tbody tr th {\n",
       "        vertical-align: top;\n",
       "    }\n",
       "\n",
       "    .dataframe thead th {\n",
       "        text-align: right;\n",
       "    }\n",
       "</style>\n",
       "<table border=\"1\" class=\"dataframe\">\n",
       "  <thead>\n",
       "    <tr style=\"text-align: right;\">\n",
       "      <th></th>\n",
       "      <th></th>\n",
       "      <th>order_purchase_date</th>\n",
       "      <th>users</th>\n",
       "      <th>orders</th>\n",
       "    </tr>\n",
       "    <tr>\n",
       "      <th>month</th>\n",
       "      <th>first_purchase_date</th>\n",
       "      <th></th>\n",
       "      <th></th>\n",
       "      <th></th>\n",
       "    </tr>\n",
       "  </thead>\n",
       "  <tbody>\n",
       "    <tr>\n",
       "      <th>0</th>\n",
       "      <th>2017-01</th>\n",
       "      <td>2017-01</td>\n",
       "      <td>706</td>\n",
       "      <td>895</td>\n",
       "    </tr>\n",
       "    <tr>\n",
       "      <th>1</th>\n",
       "      <th>2017-01</th>\n",
       "      <td>2017-02</td>\n",
       "      <td>4</td>\n",
       "      <td>4</td>\n",
       "    </tr>\n",
       "    <tr>\n",
       "      <th>2</th>\n",
       "      <th>2017-01</th>\n",
       "      <td>2017-03</td>\n",
       "      <td>2</td>\n",
       "      <td>2</td>\n",
       "    </tr>\n",
       "    <tr>\n",
       "      <th>3</th>\n",
       "      <th>2017-01</th>\n",
       "      <td>2017-04</td>\n",
       "      <td>1</td>\n",
       "      <td>1</td>\n",
       "    </tr>\n",
       "    <tr>\n",
       "      <th>4</th>\n",
       "      <th>2017-01</th>\n",
       "      <td>2017-05</td>\n",
       "      <td>3</td>\n",
       "      <td>3</td>\n",
       "    </tr>\n",
       "  </tbody>\n",
       "</table>\n",
       "</div>"
      ],
      "text/plain": [
       "                          order_purchase_date  users  orders\n",
       "month first_purchase_date                                   \n",
       "0     2017-01                         2017-01    706     895\n",
       "1     2017-01                         2017-02      4       4\n",
       "2     2017-01                         2017-03      2       2\n",
       "3     2017-01                         2017-04      1       1\n",
       "4     2017-01                         2017-05      3       3"
      ]
     },
     "execution_count": 52,
     "metadata": {},
     "output_type": "execute_result"
    }
   ],
   "source": [
    "cohorts.reset_index(inplace=True)\n",
    "cohorts.set_index(['month','first_purchase_date'], inplace=True)\n",
    "cohorts.head()"
   ]
  },
  {
   "cell_type": "markdown",
   "metadata": {
    "pycharm": {
     "name": "#%% md\n"
    }
   },
   "source": [
    "Создадим ряд содержаший размер каждой когорты first_purchase_date."
   ]
  },
  {
   "cell_type": "code",
   "execution_count": 53,
   "metadata": {
    "pycharm": {
     "name": "#%%\n"
    },
    "scrolled": true
   },
   "outputs": [
    {
     "data": {
      "text/plain": [
       "first_purchase_date\n",
       "2017-01     706\n",
       "2017-02    1662\n",
       "2017-03    2577\n",
       "2017-04    2288\n",
       "2017-05    3526\n",
       "Name: users, dtype: int64"
      ]
     },
     "execution_count": 53,
     "metadata": {},
     "output_type": "execute_result"
    }
   ],
   "source": [
    "cohort_group_size = cohorts['users'].groupby('first_purchase_date').first()\n",
    "cohort_group_size.head()"
   ]
  },
  {
   "cell_type": "markdown",
   "metadata": {
    "pycharm": {
     "name": "#%% md\n"
    }
   },
   "source": [
    "Создадим итоговую таблицу retention, развернув таблицу по когорте first_purchase_date, потом транспонируем ее, чтобы когорты оказались слева и выведем относительные значения для каждой строки по размеру этой когорты."
   ]
  },
  {
   "cell_type": "code",
   "execution_count": 54,
   "metadata": {
    "pycharm": {
     "name": "#%%\n"
    },
    "scrolled": false
   },
   "outputs": [
    {
     "data": {
      "text/html": [
       "<div>\n",
       "<style scoped>\n",
       "    .dataframe tbody tr th:only-of-type {\n",
       "        vertical-align: middle;\n",
       "    }\n",
       "\n",
       "    .dataframe tbody tr th {\n",
       "        vertical-align: top;\n",
       "    }\n",
       "\n",
       "    .dataframe thead th {\n",
       "        text-align: right;\n",
       "    }\n",
       "</style>\n",
       "<table border=\"1\" class=\"dataframe\">\n",
       "  <thead>\n",
       "    <tr style=\"text-align: right;\">\n",
       "      <th>month</th>\n",
       "      <th>0</th>\n",
       "      <th>1</th>\n",
       "      <th>2</th>\n",
       "      <th>3</th>\n",
       "      <th>4</th>\n",
       "      <th>5</th>\n",
       "      <th>6</th>\n",
       "      <th>7</th>\n",
       "      <th>8</th>\n",
       "      <th>9</th>\n",
       "      <th>10</th>\n",
       "      <th>11</th>\n",
       "      <th>12</th>\n",
       "      <th>13</th>\n",
       "      <th>14</th>\n",
       "    </tr>\n",
       "    <tr>\n",
       "      <th>first_purchase_date</th>\n",
       "      <th></th>\n",
       "      <th></th>\n",
       "      <th></th>\n",
       "      <th></th>\n",
       "      <th></th>\n",
       "      <th></th>\n",
       "      <th></th>\n",
       "      <th></th>\n",
       "      <th></th>\n",
       "      <th></th>\n",
       "      <th></th>\n",
       "      <th></th>\n",
       "      <th></th>\n",
       "      <th></th>\n",
       "      <th></th>\n",
       "    </tr>\n",
       "  </thead>\n",
       "  <tbody>\n",
       "    <tr>\n",
       "      <th>2017-01</th>\n",
       "      <td>1.0</td>\n",
       "      <td>0.005666</td>\n",
       "      <td>0.002833</td>\n",
       "      <td>0.001416</td>\n",
       "      <td>0.004249</td>\n",
       "      <td>0.001416</td>\n",
       "      <td>0.004249</td>\n",
       "      <td>0.001416</td>\n",
       "      <td>0.001416</td>\n",
       "      <td>0.002833</td>\n",
       "      <td>0.002833</td>\n",
       "      <td>0.007082</td>\n",
       "      <td>0.004249</td>\n",
       "      <td>0.001416</td>\n",
       "      <td>0.001416</td>\n",
       "    </tr>\n",
       "    <tr>\n",
       "      <th>2017-02</th>\n",
       "      <td>1.0</td>\n",
       "      <td>0.002407</td>\n",
       "      <td>0.002407</td>\n",
       "      <td>0.001805</td>\n",
       "      <td>0.004212</td>\n",
       "      <td>0.001203</td>\n",
       "      <td>0.002407</td>\n",
       "      <td>0.001805</td>\n",
       "      <td>0.000602</td>\n",
       "      <td>0.001805</td>\n",
       "      <td>0.001203</td>\n",
       "      <td>0.003008</td>\n",
       "      <td>0.001203</td>\n",
       "      <td>0.001805</td>\n",
       "      <td>0.001203</td>\n",
       "    </tr>\n",
       "    <tr>\n",
       "      <th>2017-03</th>\n",
       "      <td>1.0</td>\n",
       "      <td>0.005045</td>\n",
       "      <td>0.003492</td>\n",
       "      <td>0.003492</td>\n",
       "      <td>0.003492</td>\n",
       "      <td>0.001552</td>\n",
       "      <td>0.001552</td>\n",
       "      <td>0.003104</td>\n",
       "      <td>0.003104</td>\n",
       "      <td>0.001164</td>\n",
       "      <td>0.003492</td>\n",
       "      <td>0.001164</td>\n",
       "      <td>0.002328</td>\n",
       "      <td>0.001164</td>\n",
       "      <td>NaN</td>\n",
       "    </tr>\n",
       "    <tr>\n",
       "      <th>2017-04</th>\n",
       "      <td>1.0</td>\n",
       "      <td>0.006119</td>\n",
       "      <td>0.002185</td>\n",
       "      <td>0.001748</td>\n",
       "      <td>0.002622</td>\n",
       "      <td>0.002622</td>\n",
       "      <td>0.003497</td>\n",
       "      <td>0.002622</td>\n",
       "      <td>0.003497</td>\n",
       "      <td>0.001748</td>\n",
       "      <td>0.002185</td>\n",
       "      <td>0.000874</td>\n",
       "      <td>0.000437</td>\n",
       "      <td>NaN</td>\n",
       "      <td>NaN</td>\n",
       "    </tr>\n",
       "    <tr>\n",
       "      <th>2017-05</th>\n",
       "      <td>1.0</td>\n",
       "      <td>0.005389</td>\n",
       "      <td>0.004821</td>\n",
       "      <td>0.003971</td>\n",
       "      <td>0.003120</td>\n",
       "      <td>0.003403</td>\n",
       "      <td>0.004254</td>\n",
       "      <td>0.001418</td>\n",
       "      <td>0.002552</td>\n",
       "      <td>0.002552</td>\n",
       "      <td>0.002836</td>\n",
       "      <td>0.003403</td>\n",
       "      <td>NaN</td>\n",
       "      <td>NaN</td>\n",
       "      <td>NaN</td>\n",
       "    </tr>\n",
       "  </tbody>\n",
       "</table>\n",
       "</div>"
      ],
      "text/plain": [
       "month                 0         1         2         3         4         5   \\\n",
       "first_purchase_date                                                          \n",
       "2017-01              1.0  0.005666  0.002833  0.001416  0.004249  0.001416   \n",
       "2017-02              1.0  0.002407  0.002407  0.001805  0.004212  0.001203   \n",
       "2017-03              1.0  0.005045  0.003492  0.003492  0.003492  0.001552   \n",
       "2017-04              1.0  0.006119  0.002185  0.001748  0.002622  0.002622   \n",
       "2017-05              1.0  0.005389  0.004821  0.003971  0.003120  0.003403   \n",
       "\n",
       "month                      6         7         8         9         10  \\\n",
       "first_purchase_date                                                     \n",
       "2017-01              0.004249  0.001416  0.001416  0.002833  0.002833   \n",
       "2017-02              0.002407  0.001805  0.000602  0.001805  0.001203   \n",
       "2017-03              0.001552  0.003104  0.003104  0.001164  0.003492   \n",
       "2017-04              0.003497  0.002622  0.003497  0.001748  0.002185   \n",
       "2017-05              0.004254  0.001418  0.002552  0.002552  0.002836   \n",
       "\n",
       "month                      11        12        13        14  \n",
       "first_purchase_date                                          \n",
       "2017-01              0.007082  0.004249  0.001416  0.001416  \n",
       "2017-02              0.003008  0.001203  0.001805  0.001203  \n",
       "2017-03              0.001164  0.002328  0.001164       NaN  \n",
       "2017-04              0.000874  0.000437       NaN       NaN  \n",
       "2017-05              0.003403       NaN       NaN       NaN  "
      ]
     },
     "execution_count": 54,
     "metadata": {},
     "output_type": "execute_result"
    }
   ],
   "source": [
    "retention = cohorts['users'].unstack('first_purchase_date').T.divide(cohort_group_size, axis=0)\n",
    "retention.head()"
   ]
  },
  {
   "cell_type": "markdown",
   "metadata": {
    "pycharm": {
     "name": "#%% md\n"
    }
   },
   "source": [
    "Зададим график, чтобы наглядно оценить поведение когорт на 3-й месяц."
   ]
  },
  {
   "cell_type": "code",
   "execution_count": 55,
   "metadata": {
    "pycharm": {
     "name": "#%%\n"
    }
   },
   "outputs": [
    {
     "data": {
      "image/png": "[encoded data removed]",
      "text/plain": [
       "<Figure size 1800x1080 with 2 Axes>"
      ]
     },
     "metadata": {},
     "output_type": "display_data"
    }
   ],
   "source": [
    "plt.figure(figsize=(25, 15))\n",
    "plt.title('Retention', size=20)\n",
    "sns.heatmap(retention, mask=retention.isnull(), annot=True, fmt='.2%', vmin=0.0, vmax=0.01)\n",
    "plt.yticks(rotation=0, size=15)\n",
    "plt.xticks(size=20)\n",
    "plt.xlabel('month', fontsize=20)\n",
    "plt.ylabel('cohort', fontsize=20)\n",
    "plt.show()"
   ]
  },
  {
   "cell_type": "code",
   "execution_count": null,
   "outputs": [],
   "source": [
    "В результате получаем, в период с января по декабрь когорта с самым высоким retention на 3-й месяц у нас 2017-05 когорта, retention 0.40%."
   ],
   "metadata": {
    "collapsed": false,
    "pycharm": {
     "name": "#%%\n"
    }
   }
  },
  {
   "cell_type": "markdown",
   "metadata": {
    "pycharm": {
     "name": "#%% md\n"
    }
   },
   "source": [
    "### 6. RFM-сегментация пользователей"
   ]
  },
  {
   "cell_type": "markdown",
   "metadata": {
    "pycharm": {
     "name": "#%% md\n"
    }
   },
   "source": [
    "В кластеризации следующие метрики:\n",
    "* R - время от последней покупки пользователя до текущей даты\n",
    "* F - суммарное количество покупок у пользователя за всё время\n",
    "* M - сумма покупок за всё время"
   ]
  },
  {
   "cell_type": "code",
   "execution_count": 56,
   "metadata": {
    "pycharm": {
     "name": "#%%\n"
    }
   },
   "outputs": [
    {
     "data": {
      "text/html": [
       "<div>\n",
       "<style scoped>\n",
       "    .dataframe tbody tr th:only-of-type {\n",
       "        vertical-align: middle;\n",
       "    }\n",
       "\n",
       "    .dataframe tbody tr th {\n",
       "        vertical-align: top;\n",
       "    }\n",
       "\n",
       "    .dataframe thead th {\n",
       "        text-align: right;\n",
       "    }\n",
       "</style>\n",
       "<table border=\"1\" class=\"dataframe\">\n",
       "  <thead>\n",
       "    <tr style=\"text-align: right;\">\n",
       "      <th></th>\n",
       "      <th>customer_id</th>\n",
       "      <th>customer_unique_id</th>\n",
       "      <th>customer_zip_code_prefix</th>\n",
       "      <th>customer_city</th>\n",
       "      <th>customer_state</th>\n",
       "      <th>order_id</th>\n",
       "      <th>order_status</th>\n",
       "      <th>order_purchase_timestamp</th>\n",
       "      <th>order_approved_at</th>\n",
       "      <th>order_delivered_carrier_date</th>\n",
       "      <th>order_delivered_customer_date</th>\n",
       "      <th>order_estimated_delivery_date</th>\n",
       "      <th>month_create_order</th>\n",
       "      <th>order_item_id</th>\n",
       "      <th>product_id</th>\n",
       "      <th>seller_id</th>\n",
       "      <th>shipping_limit_date</th>\n",
       "      <th>price</th>\n",
       "      <th>freight_value</th>\n",
       "      <th>week_name</th>\n",
       "    </tr>\n",
       "  </thead>\n",
       "  <tbody>\n",
       "    <tr>\n",
       "      <th>0</th>\n",
       "      <td>06b8999e2fba1a1fbc88172c00ba8bc7</td>\n",
       "      <td>861eff4711a542e4b93843c6dd7febb0</td>\n",
       "      <td>14409</td>\n",
       "      <td>franca</td>\n",
       "      <td>SP</td>\n",
       "      <td>00e7ee1b050b8499577073aeb2a297a1</td>\n",
       "      <td>delivered</td>\n",
       "      <td>2017-05-16 15:05:35</td>\n",
       "      <td>2017-05-16 15:22:12</td>\n",
       "      <td>2017-05-23 10:47:57</td>\n",
       "      <td>2017-05-25 10:35:35</td>\n",
       "      <td>2017-06-05</td>\n",
       "      <td>2017-05</td>\n",
       "      <td>1</td>\n",
       "      <td>a9516a079e37a9c9c36b9b78b10169e8</td>\n",
       "      <td>7c67e1448b00f6e969d365cea6b010ab</td>\n",
       "      <td>2017-05-22 15:22:12</td>\n",
       "      <td>124.99</td>\n",
       "      <td>21.88</td>\n",
       "      <td>Tuesday</td>\n",
       "    </tr>\n",
       "    <tr>\n",
       "      <th>1</th>\n",
       "      <td>18955e83d337fd6b2def6b18a428ac77</td>\n",
       "      <td>290c77bc529b7ac935b93aa66c333dc3</td>\n",
       "      <td>9790</td>\n",
       "      <td>sao bernardo do campo</td>\n",
       "      <td>SP</td>\n",
       "      <td>29150127e6685892b6eab3eec79f59c7</td>\n",
       "      <td>delivered</td>\n",
       "      <td>2018-01-12 20:48:24</td>\n",
       "      <td>2018-01-12 20:58:32</td>\n",
       "      <td>2018-01-15 17:14:59</td>\n",
       "      <td>2018-01-29 12:41:19</td>\n",
       "      <td>2018-02-06</td>\n",
       "      <td>2018-01</td>\n",
       "      <td>1</td>\n",
       "      <td>4aa6014eceb682077f9dc4bffebc05b0</td>\n",
       "      <td>b8bc237ba3788b23da09c0f1f3a3288c</td>\n",
       "      <td>2018-01-18 20:58:32</td>\n",
       "      <td>289.00</td>\n",
       "      <td>46.48</td>\n",
       "      <td>Friday</td>\n",
       "    </tr>\n",
       "    <tr>\n",
       "      <th>2</th>\n",
       "      <td>4e7b3e00288586ebd08712fdd0374a03</td>\n",
       "      <td>060e732b5b29e8181a18229c7b0b2b5e</td>\n",
       "      <td>1151</td>\n",
       "      <td>sao paulo</td>\n",
       "      <td>SP</td>\n",
       "      <td>b2059ed67ce144a36e2aa97d2c9e9ad2</td>\n",
       "      <td>delivered</td>\n",
       "      <td>2018-05-19 16:07:45</td>\n",
       "      <td>2018-05-20 16:19:10</td>\n",
       "      <td>2018-06-11 14:31:00</td>\n",
       "      <td>2018-06-14 17:58:51</td>\n",
       "      <td>2018-06-13</td>\n",
       "      <td>2018-05</td>\n",
       "      <td>1</td>\n",
       "      <td>bd07b66896d6f1494f5b86251848ced7</td>\n",
       "      <td>7c67e1448b00f6e969d365cea6b010ab</td>\n",
       "      <td>2018-06-05 16:19:10</td>\n",
       "      <td>139.94</td>\n",
       "      <td>17.79</td>\n",
       "      <td>Saturday</td>\n",
       "    </tr>\n",
       "    <tr>\n",
       "      <th>3</th>\n",
       "      <td>b2b6027bc5c5109e529d4dc6358b12c3</td>\n",
       "      <td>259dac757896d24d7702b9acbbff3f3c</td>\n",
       "      <td>8775</td>\n",
       "      <td>mogi das cruzes</td>\n",
       "      <td>SP</td>\n",
       "      <td>951670f92359f4fe4a63112aa7306eba</td>\n",
       "      <td>delivered</td>\n",
       "      <td>2018-03-13 16:06:38</td>\n",
       "      <td>2018-03-13 17:29:19</td>\n",
       "      <td>2018-03-27 23:22:42</td>\n",
       "      <td>2018-03-28 16:04:25</td>\n",
       "      <td>2018-04-10</td>\n",
       "      <td>2018-03</td>\n",
       "      <td>1</td>\n",
       "      <td>a5647c44af977b148e0a3a4751a09e2e</td>\n",
       "      <td>7c67e1448b00f6e969d365cea6b010ab</td>\n",
       "      <td>2018-03-27 16:31:16</td>\n",
       "      <td>149.94</td>\n",
       "      <td>23.36</td>\n",
       "      <td>Tuesday</td>\n",
       "    </tr>\n",
       "    <tr>\n",
       "      <th>4</th>\n",
       "      <td>4f2d8ab171c80ec8364f7c12e35b23ad</td>\n",
       "      <td>345ecd01c38d18a9036ed96c73b8d066</td>\n",
       "      <td>13056</td>\n",
       "      <td>campinas</td>\n",
       "      <td>SP</td>\n",
       "      <td>6b7d50bd145f6fc7f33cebabd7e49d0f</td>\n",
       "      <td>delivered</td>\n",
       "      <td>2018-07-29 09:51:30</td>\n",
       "      <td>2018-07-29 10:10:09</td>\n",
       "      <td>2018-07-30 15:16:00</td>\n",
       "      <td>2018-08-09 20:55:48</td>\n",
       "      <td>2018-08-15</td>\n",
       "      <td>2018-07</td>\n",
       "      <td>1</td>\n",
       "      <td>9391a573abe00141c56e38d84d7d5b3b</td>\n",
       "      <td>4a3ca9315b744ce9f8e9374361493884</td>\n",
       "      <td>2018-07-31 10:10:09</td>\n",
       "      <td>230.00</td>\n",
       "      <td>22.25</td>\n",
       "      <td>Sunday</td>\n",
       "    </tr>\n",
       "  </tbody>\n",
       "</table>\n",
       "</div>"
      ],
      "text/plain": [
       "                        customer_id                customer_unique_id  \\\n",
       "0  06b8999e2fba1a1fbc88172c00ba8bc7  861eff4711a542e4b93843c6dd7febb0   \n",
       "1  18955e83d337fd6b2def6b18a428ac77  290c77bc529b7ac935b93aa66c333dc3   \n",
       "2  4e7b3e00288586ebd08712fdd0374a03  060e732b5b29e8181a18229c7b0b2b5e   \n",
       "3  b2b6027bc5c5109e529d4dc6358b12c3  259dac757896d24d7702b9acbbff3f3c   \n",
       "4  4f2d8ab171c80ec8364f7c12e35b23ad  345ecd01c38d18a9036ed96c73b8d066   \n",
       "\n",
       "   customer_zip_code_prefix          customer_city customer_state  \\\n",
       "0                     14409                 franca             SP   \n",
       "1                      9790  sao bernardo do campo             SP   \n",
       "2                      1151              sao paulo             SP   \n",
       "3                      8775        mogi das cruzes             SP   \n",
       "4                     13056               campinas             SP   \n",
       "\n",
       "                           order_id order_status order_purchase_timestamp  \\\n",
       "0  00e7ee1b050b8499577073aeb2a297a1    delivered      2017-05-16 15:05:35   \n",
       "1  29150127e6685892b6eab3eec79f59c7    delivered      2018-01-12 20:48:24   \n",
       "2  b2059ed67ce144a36e2aa97d2c9e9ad2    delivered      2018-05-19 16:07:45   \n",
       "3  951670f92359f4fe4a63112aa7306eba    delivered      2018-03-13 16:06:38   \n",
       "4  6b7d50bd145f6fc7f33cebabd7e49d0f    delivered      2018-07-29 09:51:30   \n",
       "\n",
       "    order_approved_at order_delivered_carrier_date  \\\n",
       "0 2017-05-16 15:22:12          2017-05-23 10:47:57   \n",
       "1 2018-01-12 20:58:32          2018-01-15 17:14:59   \n",
       "2 2018-05-20 16:19:10          2018-06-11 14:31:00   \n",
       "3 2018-03-13 17:29:19          2018-03-27 23:22:42   \n",
       "4 2018-07-29 10:10:09          2018-07-30 15:16:00   \n",
       "\n",
       "  order_delivered_customer_date order_estimated_delivery_date  \\\n",
       "0           2017-05-25 10:35:35                    2017-06-05   \n",
       "1           2018-01-29 12:41:19                    2018-02-06   \n",
       "2           2018-06-14 17:58:51                    2018-06-13   \n",
       "3           2018-03-28 16:04:25                    2018-04-10   \n",
       "4           2018-08-09 20:55:48                    2018-08-15   \n",
       "\n",
       "  month_create_order  order_item_id                        product_id  \\\n",
       "0            2017-05              1  a9516a079e37a9c9c36b9b78b10169e8   \n",
       "1            2018-01              1  4aa6014eceb682077f9dc4bffebc05b0   \n",
       "2            2018-05              1  bd07b66896d6f1494f5b86251848ced7   \n",
       "3            2018-03              1  a5647c44af977b148e0a3a4751a09e2e   \n",
       "4            2018-07              1  9391a573abe00141c56e38d84d7d5b3b   \n",
       "\n",
       "                          seller_id shipping_limit_date   price  \\\n",
       "0  7c67e1448b00f6e969d365cea6b010ab 2017-05-22 15:22:12  124.99   \n",
       "1  b8bc237ba3788b23da09c0f1f3a3288c 2018-01-18 20:58:32  289.00   \n",
       "2  7c67e1448b00f6e969d365cea6b010ab 2018-06-05 16:19:10  139.94   \n",
       "3  7c67e1448b00f6e969d365cea6b010ab 2018-03-27 16:31:16  149.94   \n",
       "4  4a3ca9315b744ce9f8e9374361493884 2018-07-31 10:10:09  230.00   \n",
       "\n",
       "   freight_value week_name  \n",
       "0          21.88   Tuesday  \n",
       "1          46.48    Friday  \n",
       "2          17.79  Saturday  \n",
       "3          23.36   Tuesday  \n",
       "4          22.25    Sunday  "
      ]
     },
     "execution_count": 56,
     "metadata": {},
     "output_type": "execute_result"
    }
   ],
   "source": [
    "full_data.head()"
   ]
  },
  {
   "cell_type": "markdown",
   "metadata": {
    "pycharm": {
     "name": "#%% md\n"
    }
   },
   "source": [
    "Возьмем таблицу, где мы определись с покупками, создадим таблицу rfm, где для каждого идентификатора пользователя customer_unique_id, выведем последннее время покупки, количество уникальных заказов, сумму всех покупок, удалим индексы."
   ]
  },
  {
   "cell_type": "code",
   "execution_count": 57,
   "metadata": {
    "pycharm": {
     "name": "#%%\n"
    }
   },
   "outputs": [
    {
     "data": {
      "text/html": [
       "<div>\n",
       "<style scoped>\n",
       "    .dataframe tbody tr th:only-of-type {\n",
       "        vertical-align: middle;\n",
       "    }\n",
       "\n",
       "    .dataframe tbody tr th {\n",
       "        vertical-align: top;\n",
       "    }\n",
       "\n",
       "    .dataframe thead th {\n",
       "        text-align: right;\n",
       "    }\n",
       "</style>\n",
       "<table border=\"1\" class=\"dataframe\">\n",
       "  <thead>\n",
       "    <tr style=\"text-align: right;\">\n",
       "      <th></th>\n",
       "      <th>customer_unique_id</th>\n",
       "      <th>order_approved_at</th>\n",
       "      <th>order_id</th>\n",
       "      <th>price</th>\n",
       "    </tr>\n",
       "  </thead>\n",
       "  <tbody>\n",
       "    <tr>\n",
       "      <th>0</th>\n",
       "      <td>0000366f3b9a7992bf8c76cfdf3221e2</td>\n",
       "      <td>2018-05-10 11:11:18</td>\n",
       "      <td>1</td>\n",
       "      <td>129.90</td>\n",
       "    </tr>\n",
       "    <tr>\n",
       "      <th>1</th>\n",
       "      <td>0000b849f77a49e4a4ce2b2a4ca5be3f</td>\n",
       "      <td>2018-05-07 18:25:44</td>\n",
       "      <td>1</td>\n",
       "      <td>18.90</td>\n",
       "    </tr>\n",
       "    <tr>\n",
       "      <th>2</th>\n",
       "      <td>0000f46a3911fa3c0805444483337064</td>\n",
       "      <td>2017-03-10 21:05:03</td>\n",
       "      <td>1</td>\n",
       "      <td>69.00</td>\n",
       "    </tr>\n",
       "    <tr>\n",
       "      <th>3</th>\n",
       "      <td>0000f6ccb0745a6a4b88665a16c9f078</td>\n",
       "      <td>2017-10-12 20:49:17</td>\n",
       "      <td>1</td>\n",
       "      <td>25.99</td>\n",
       "    </tr>\n",
       "    <tr>\n",
       "      <th>4</th>\n",
       "      <td>0004aac84e0df4da2b147fca70cf8255</td>\n",
       "      <td>2017-11-14 20:06:52</td>\n",
       "      <td>1</td>\n",
       "      <td>180.00</td>\n",
       "    </tr>\n",
       "  </tbody>\n",
       "</table>\n",
       "</div>"
      ],
      "text/plain": [
       "                 customer_unique_id   order_approved_at  order_id   price\n",
       "0  0000366f3b9a7992bf8c76cfdf3221e2 2018-05-10 11:11:18         1  129.90\n",
       "1  0000b849f77a49e4a4ce2b2a4ca5be3f 2018-05-07 18:25:44         1   18.90\n",
       "2  0000f46a3911fa3c0805444483337064 2017-03-10 21:05:03         1   69.00\n",
       "3  0000f6ccb0745a6a4b88665a16c9f078 2017-10-12 20:49:17         1   25.99\n",
       "4  0004aac84e0df4da2b147fca70cf8255 2017-11-14 20:06:52         1  180.00"
      ]
     },
     "execution_count": 57,
     "metadata": {},
     "output_type": "execute_result"
    }
   ],
   "source": [
    "rfm = full_data.groupby('customer_unique_id').agg({'order_approved_at': 'max',\\\n",
    "                                             'order_id': 'nunique',\\\n",
    "                                             'price': 'sum'})\\\n",
    "                                        .reset_index()\n",
    "rfm.head()"
   ]
  },
  {
   "cell_type": "markdown",
   "metadata": {
    "pycharm": {
     "name": "#%% md\n"
    }
   },
   "source": [
    "Определим дату now, по которой будем судить о давности последней покупки у нашего покупателя. Для этого возьмем самую последнюю дату покупки из таблицы rfm и добавим к ней один день."
   ]
  },
  {
   "cell_type": "code",
   "execution_count": 58,
   "metadata": {
    "pycharm": {
     "name": "#%%\n"
    }
   },
   "outputs": [
    {
     "data": {
      "text/plain": [
       "Timestamp('2018-09-04 17:40:06')"
      ]
     },
     "execution_count": 58,
     "metadata": {},
     "output_type": "execute_result"
    }
   ],
   "source": [
    "now = rfm['order_approved_at'].max() + timedelta(days=1)\n",
    "now"
   ]
  },
  {
   "cell_type": "markdown",
   "metadata": {
    "pycharm": {
     "name": "#%% md\n"
    }
   },
   "source": [
    "В столбце order_approved_at оставим разницу в днях между покупкой и нашей датой now, переименуем колонки в названия, которые соответствуют значениям в них."
   ]
  },
  {
   "cell_type": "code",
   "execution_count": 59,
   "metadata": {
    "pycharm": {
     "name": "#%%\n"
    }
   },
   "outputs": [],
   "source": [
    "rfm['order_approved_at'] = rfm['order_approved_at'].apply(lambda x: (now-x).days)\n",
    "rfm.columns = ['customer_unique_id', 'recency', 'frequency', 'monetary']"
   ]
  },
  {
   "cell_type": "code",
   "execution_count": 60,
   "metadata": {
    "pycharm": {
     "name": "#%%\n"
    }
   },
   "outputs": [
    {
     "data": {
      "text/html": [
       "<div>\n",
       "<style scoped>\n",
       "    .dataframe tbody tr th:only-of-type {\n",
       "        vertical-align: middle;\n",
       "    }\n",
       "\n",
       "    .dataframe tbody tr th {\n",
       "        vertical-align: top;\n",
       "    }\n",
       "\n",
       "    .dataframe thead th {\n",
       "        text-align: right;\n",
       "    }\n",
       "</style>\n",
       "<table border=\"1\" class=\"dataframe\">\n",
       "  <thead>\n",
       "    <tr style=\"text-align: right;\">\n",
       "      <th></th>\n",
       "      <th>recency</th>\n",
       "      <th>frequency</th>\n",
       "      <th>monetary</th>\n",
       "    </tr>\n",
       "  </thead>\n",
       "  <tbody>\n",
       "    <tr>\n",
       "      <th>count</th>\n",
       "      <td>94665.000000</td>\n",
       "      <td>94665.000000</td>\n",
       "      <td>94665.000000</td>\n",
       "    </tr>\n",
       "    <tr>\n",
       "      <th>mean</th>\n",
       "      <td>243.296086</td>\n",
       "      <td>1.033793</td>\n",
       "      <td>141.866326</td>\n",
       "    </tr>\n",
       "    <tr>\n",
       "      <th>std</th>\n",
       "      <td>152.799168</td>\n",
       "      <td>0.210708</td>\n",
       "      <td>215.731458</td>\n",
       "    </tr>\n",
       "    <tr>\n",
       "      <th>min</th>\n",
       "      <td>1.000000</td>\n",
       "      <td>1.000000</td>\n",
       "      <td>0.850000</td>\n",
       "    </tr>\n",
       "    <tr>\n",
       "      <th>25%</th>\n",
       "      <td>119.000000</td>\n",
       "      <td>1.000000</td>\n",
       "      <td>47.800000</td>\n",
       "    </tr>\n",
       "    <tr>\n",
       "      <th>50%</th>\n",
       "      <td>224.000000</td>\n",
       "      <td>1.000000</td>\n",
       "      <td>89.800000</td>\n",
       "    </tr>\n",
       "    <tr>\n",
       "      <th>75%</th>\n",
       "      <td>352.000000</td>\n",
       "      <td>1.000000</td>\n",
       "      <td>154.910000</td>\n",
       "    </tr>\n",
       "    <tr>\n",
       "      <th>max</th>\n",
       "      <td>719.000000</td>\n",
       "      <td>16.000000</td>\n",
       "      <td>13440.000000</td>\n",
       "    </tr>\n",
       "  </tbody>\n",
       "</table>\n",
       "</div>"
      ],
      "text/plain": [
       "            recency     frequency      monetary\n",
       "count  94665.000000  94665.000000  94665.000000\n",
       "mean     243.296086      1.033793    141.866326\n",
       "std      152.799168      0.210708    215.731458\n",
       "min        1.000000      1.000000      0.850000\n",
       "25%      119.000000      1.000000     47.800000\n",
       "50%      224.000000      1.000000     89.800000\n",
       "75%      352.000000      1.000000    154.910000\n",
       "max      719.000000     16.000000  13440.000000"
      ]
     },
     "execution_count": 60,
     "metadata": {},
     "output_type": "execute_result"
    }
   ],
   "source": [
    "rfm.describe()"
   ]
  },
  {
   "cell_type": "code",
   "execution_count": 61,
   "metadata": {
    "pycharm": {
     "name": "#%%\n"
    }
   },
   "outputs": [
    {
     "data": {
      "text/plain": [
       "1     91794\n",
       "2      2636\n",
       "3       187\n",
       "4        29\n",
       "5         9\n",
       "6         5\n",
       "7         3\n",
       "16        1\n",
       "9         1\n",
       "Name: frequency, dtype: int64"
      ]
     },
     "execution_count": 61,
     "metadata": {},
     "output_type": "execute_result"
    }
   ],
   "source": [
    "rfm.frequency.value_counts()"
   ]
  },
  {
   "cell_type": "markdown",
   "metadata": {
    "pycharm": {
     "name": "#%% md\n"
    }
   },
   "source": [
    "Посмотрим внимательно на распределение recency на 33-й и 66-й процентиль."
   ]
  },
  {
   "cell_type": "code",
   "execution_count": 62,
   "metadata": {
    "pycharm": {
     "name": "#%%\n"
    }
   },
   "outputs": [
    {
     "data": {
      "image/png": "[encoded data removed]",
      "text/plain": [
       "<Figure size 1800x720 with 1 Axes>"
      ]
     },
     "metadata": {},
     "output_type": "display_data"
    }
   ],
   "source": [
    "sns.set(style=\"darkgrid\",\n",
    "        rc={\"figure.figsize\": (25, 10)})\n",
    "ax = sns.histplot(rfm.recency, kde=True, color='#6c2b6d')\n",
    "ax.lines[0].set_color('black')\n",
    "ax.set_xticks(range(0, 750, 50))\n",
    "\n",
    "plt.axvline(x=rfm.recency.median(), color='black', ls='--', lw=2)\n",
    "plt.axvline(x=rfm.recency.quantile(q=0.33), color='black', ls='--', lw=5)\n",
    "plt.axvline(x=rfm.recency.quantile(q=0.66), color='black', ls='--', lw=5)\n",
    "\n",
    "plt.title('Recency', size=20)\n",
    "plt.yticks(size=20)\n",
    "plt.xticks(size=20)\n",
    "plt.xlabel('recency', fontsize=20)\n",
    "plt.ylabel('количество', fontsize=20)\n",
    "\n",
    "plt.grid\n",
    "sns.despine()\n",
    "plt.show()"
   ]
  },
  {
   "cell_type": "markdown",
   "metadata": {
    "pycharm": {
     "name": "#%% md\n"
    }
   },
   "source": [
    "Посмотрим frequency на графике."
   ]
  },
  {
   "cell_type": "code",
   "execution_count": 63,
   "metadata": {
    "pycharm": {
     "name": "#%%\n"
    }
   },
   "outputs": [
    {
     "data": {
      "image/png": "[encoded data removed]",
      "text/plain": [
       "<Figure size 1080x432 with 1 Axes>"
      ]
     },
     "metadata": {},
     "output_type": "display_data"
    }
   ],
   "source": [
    "sns.set(style=\"darkgrid\",\n",
    "        rc={\"figure.figsize\": (15, 6)})\n",
    "ax = sns.histplot(rfm.frequency, color='#6c2b6d')\n",
    "\n",
    "plt.title('Frequency', size=15)\n",
    "plt.yticks(size=13)\n",
    "plt.xticks(size=13)\n",
    "plt.xlabel('frequency', fontsize=13)\n",
    "plt.ylabel('количество', fontsize=13)\n",
    "\n",
    "plt.grid\n",
    "sns.despine()\n",
    "plt.show()"
   ]
  },
  {
   "cell_type": "markdown",
   "metadata": {
    "pycharm": {
     "name": "#%% md\n"
    }
   },
   "source": [
    "Посмотрим на распределение monetary, на 33-й и 66-й процентиль. Для наглядности отобразим значения меньше 1000 у.е."
   ]
  },
  {
   "cell_type": "code",
   "execution_count": 64,
   "metadata": {
    "pycharm": {
     "name": "#%%\n"
    }
   },
   "outputs": [
    {
     "data": {
      "image/png": "[encoded data removed]",
      "text/plain": [
       "<Figure size 1800x720 with 1 Axes>"
      ]
     },
     "metadata": {},
     "output_type": "display_data"
    }
   ],
   "source": [
    "sns.set(style=\"darkgrid\",\n",
    "        rc={\"figure.figsize\": (25, 10)})\n",
    "ax = sns.histplot(rfm.monetary.loc[rfm.monetary <= 1000], kde=True, color='#6c2b6d')\n",
    "ax.lines[0].set_color('black')\n",
    "ax.set_xticks(range(0, 1000, 50))\n",
    "\n",
    "plt.axvline(x=rfm.recency.median(), color='black', ls='--', lw=2)\n",
    "plt.axvline(x=rfm.recency.quantile(q=0.33), color='black', ls='--', lw=5)\n",
    "plt.axvline(x=rfm.recency.quantile(q=0.66), color='black', ls='--', lw=5)\n",
    "\n",
    "plt.title('Monetary', size=20)\n",
    "plt.yticks(size=20)\n",
    "plt.xticks(size=20)\n",
    "plt.xlabel('monetary', fontsize=20)\n",
    "plt.ylabel('количество', fontsize=20)\n",
    "\n",
    "plt.grid\n",
    "sns.despine()\n",
    "plt.show()"
   ]
  },
  {
   "cell_type": "markdown",
   "metadata": {
    "pycharm": {
     "name": "#%% md\n"
    }
   },
   "source": [
    "У нас большие размахи в recency и monetary, поэтому поделим пользователей на три равные части по 33-ему и 66-ому процентилям. Большинство покупателей у нас совершили только одну покупку, таких покупателей будем добавлять в один сегмент. Есть немного покупателей, которые совершили до четрых заказов, единицы совершили пять и более заказов, поэтому разделим frequency на три сегмента: от 1 заказ, от 2 до 4, от 5 заказов."
   ]
  },
  {
   "cell_type": "code",
   "execution_count": 65,
   "metadata": {
    "pycharm": {
     "name": "#%%\n"
    }
   },
   "outputs": [
    {
     "data": {
      "text/plain": [
       "{'recency': {0.33: 153.0, 0.66: 292.0},\n",
       " 'monetary': {0.33: 57.99, 0.66: 124.99},\n",
       " 'frequency': {0.33: 1, 0.66: 4}}"
      ]
     },
     "execution_count": 65,
     "metadata": {},
     "output_type": "execute_result"
    }
   ],
   "source": [
    "quintiles = rfm[['recency', 'monetary']].quantile([.33, .66])\n",
    "quintiles['frequency'] = [1, 4]\n",
    "quintiles = quintiles.to_dict()\n",
    "quintiles"
   ]
  },
  {
   "cell_type": "markdown",
   "metadata": {
    "pycharm": {
     "name": "#%% md\n"
    }
   },
   "source": [
    "Сегменты:\n",
    "1. Recency\n",
    "* Сегмент 3 - дата последней покупки меньше 153 дней назад (постоянный)\n",
    "* Сегмент 2 - дата последней покупки больше 153, но меньше 292 дней назад (спящий)\n",
    "* Сегмент 1 - дата последней покупки больше 292 дней (уходящий)\n",
    "\n",
    "2. Frequency\n",
    "* Сегмент 3 - покупал больше 5 раз\n",
    "* Сегмент 2 - покупал от 2 до 4 раз\n",
    "* Сегмент 1 - покупал 1 раз\n",
    "\n",
    "3. Monetary\n",
    "* Сегмент 3 - покупки от 125\n",
    "* Сегмент 2 - покупки от 58 до 124.99\n",
    "* Сегмент 1 - покупки меньше, чем 57.99"
   ]
  },
  {
   "cell_type": "markdown",
   "metadata": {
    "pycharm": {
     "name": "#%% md\n"
    }
   },
   "source": [
    "Напишем функции, чтобы разделить наши данные на сегменты, которые мы определили выше."
   ]
  },
  {
   "cell_type": "code",
   "execution_count": 66,
   "metadata": {
    "pycharm": {
     "name": "#%%\n"
    }
   },
   "outputs": [],
   "source": [
    "def r_score(x):\n",
    "    if x <= quintiles['recency'][.33]:\n",
    "        return 3\n",
    "    elif x <= quintiles['recency'][.66]:\n",
    "        return 2\n",
    "    else:\n",
    "        return 1\n",
    "\n",
    "def fm_score(x, column):\n",
    "    if x <= quintiles[column][.33]:\n",
    "        return 1\n",
    "    elif x <= quintiles[column][.66]:\n",
    "        return 2\n",
    "    else:\n",
    "        return 3"
   ]
  },
  {
   "cell_type": "markdown",
   "metadata": {
    "pycharm": {
     "name": "#%% md\n"
    }
   },
   "source": [
    "Применим функции выше к нашим данным, разделим их на сегменты и соединим в общий столбец RFM для создания сегментов."
   ]
  },
  {
   "cell_type": "code",
   "execution_count": 67,
   "metadata": {
    "pycharm": {
     "name": "#%%\n"
    }
   },
   "outputs": [
    {
     "data": {
      "text/html": [
       "<div>\n",
       "<style scoped>\n",
       "    .dataframe tbody tr th:only-of-type {\n",
       "        vertical-align: middle;\n",
       "    }\n",
       "\n",
       "    .dataframe tbody tr th {\n",
       "        vertical-align: top;\n",
       "    }\n",
       "\n",
       "    .dataframe thead th {\n",
       "        text-align: right;\n",
       "    }\n",
       "</style>\n",
       "<table border=\"1\" class=\"dataframe\">\n",
       "  <thead>\n",
       "    <tr style=\"text-align: right;\">\n",
       "      <th></th>\n",
       "      <th>customer_unique_id</th>\n",
       "      <th>recency</th>\n",
       "      <th>frequency</th>\n",
       "      <th>monetary</th>\n",
       "      <th>R</th>\n",
       "      <th>F</th>\n",
       "      <th>M</th>\n",
       "      <th>RFM</th>\n",
       "    </tr>\n",
       "  </thead>\n",
       "  <tbody>\n",
       "    <tr>\n",
       "      <th>0</th>\n",
       "      <td>0000366f3b9a7992bf8c76cfdf3221e2</td>\n",
       "      <td>117</td>\n",
       "      <td>1</td>\n",
       "      <td>129.90</td>\n",
       "      <td>3</td>\n",
       "      <td>1</td>\n",
       "      <td>3</td>\n",
       "      <td>313</td>\n",
       "    </tr>\n",
       "    <tr>\n",
       "      <th>1</th>\n",
       "      <td>0000b849f77a49e4a4ce2b2a4ca5be3f</td>\n",
       "      <td>119</td>\n",
       "      <td>1</td>\n",
       "      <td>18.90</td>\n",
       "      <td>3</td>\n",
       "      <td>1</td>\n",
       "      <td>1</td>\n",
       "      <td>311</td>\n",
       "    </tr>\n",
       "    <tr>\n",
       "      <th>2</th>\n",
       "      <td>0000f46a3911fa3c0805444483337064</td>\n",
       "      <td>542</td>\n",
       "      <td>1</td>\n",
       "      <td>69.00</td>\n",
       "      <td>1</td>\n",
       "      <td>1</td>\n",
       "      <td>2</td>\n",
       "      <td>112</td>\n",
       "    </tr>\n",
       "    <tr>\n",
       "      <th>3</th>\n",
       "      <td>0000f6ccb0745a6a4b88665a16c9f078</td>\n",
       "      <td>326</td>\n",
       "      <td>1</td>\n",
       "      <td>25.99</td>\n",
       "      <td>1</td>\n",
       "      <td>1</td>\n",
       "      <td>1</td>\n",
       "      <td>111</td>\n",
       "    </tr>\n",
       "    <tr>\n",
       "      <th>4</th>\n",
       "      <td>0004aac84e0df4da2b147fca70cf8255</td>\n",
       "      <td>293</td>\n",
       "      <td>1</td>\n",
       "      <td>180.00</td>\n",
       "      <td>1</td>\n",
       "      <td>1</td>\n",
       "      <td>3</td>\n",
       "      <td>113</td>\n",
       "    </tr>\n",
       "  </tbody>\n",
       "</table>\n",
       "</div>"
      ],
      "text/plain": [
       "                 customer_unique_id  recency  frequency  monetary  R  F  M  \\\n",
       "0  0000366f3b9a7992bf8c76cfdf3221e2      117          1    129.90  3  1  3   \n",
       "1  0000b849f77a49e4a4ce2b2a4ca5be3f      119          1     18.90  3  1  1   \n",
       "2  0000f46a3911fa3c0805444483337064      542          1     69.00  1  1  2   \n",
       "3  0000f6ccb0745a6a4b88665a16c9f078      326          1     25.99  1  1  1   \n",
       "4  0004aac84e0df4da2b147fca70cf8255      293          1    180.00  1  1  3   \n",
       "\n",
       "   RFM  \n",
       "0  313  \n",
       "1  311  \n",
       "2  112  \n",
       "3  111  \n",
       "4  113  "
      ]
     },
     "execution_count": 67,
     "metadata": {},
     "output_type": "execute_result"
    }
   ],
   "source": [
    "rfm['R'] = rfm['recency'].apply(lambda x: r_score(x))\n",
    "rfm['F'] = rfm['frequency'].apply(lambda x: fm_score(x, 'frequency'))\n",
    "rfm['M'] = rfm['monetary'].apply(lambda x: fm_score(x, 'monetary'))\n",
    "\n",
    "rfm['RFM'] = rfm.R.map(str) + rfm.F.map(str) + rfm.M.map(str)\n",
    "\n",
    "rfm.head()"
   ]
  },
  {
   "cell_type": "code",
   "execution_count": 68,
   "metadata": {
    "pycharm": {
     "name": "#%%\n"
    }
   },
   "outputs": [
    {
     "data": {
      "text/plain": [
       "21"
      ]
     },
     "execution_count": 68,
     "metadata": {},
     "output_type": "execute_result"
    }
   ],
   "source": [
    "rfm.RFM.nunique()"
   ]
  },
  {
   "cell_type": "markdown",
   "metadata": {
    "pycharm": {
     "name": "#%% md\n"
    }
   },
   "source": [
    "Введем обозначения покупателей:\n",
    "\n",
    "Уходящие:\n",
    "\n",
    "* 111 Потерянные экономные\n",
    "* 112, 113 Одноразовые\n",
    "* 121, 122, 123 Уходящие редкие\n",
    "* 131 Уходящие постоянные\n",
    "* 132 Уходящие хорошие постоянные\n",
    "* 133 Уходящие VIP\n",
    "\n",
    "Спящие:\n",
    "\n",
    "* 211, 212, 213 Спящие разовые\n",
    "* 221 Спящие редкие с маленьким чеком\n",
    "* 222 Спящие редкие со средним чеком\n",
    "* 223 Спящие редкие с высоким чеком\n",
    "* 231 Спящие постоянные с маленьким чеком\n",
    "* 222 Спящие постоянные со средним чеком\n",
    "* 223 Спящие постоянные с высоким чеком\n",
    "\n",
    "Постоянные:\n",
    "\n",
    "* 311 Новички с маленьким чеком\n",
    "* 312 Новички со средним чеком\n",
    "* 313 Новички с высоким чеком\n",
    "* 321 Постоянные с маленьким чеком\n",
    "* 322 Постоянные со средним чеком\n",
    "* 323 Постоянные с высоким чеком\n",
    "* 331 Постоянные с маленьким чеком\n",
    "* 332 Постоянные со средним чеком\n",
    "* 333 VIP\n",
    "\n"
   ]
  },
  {
   "cell_type": "markdown",
   "metadata": {
    "pycharm": {
     "name": "#%% md\n"
    }
   },
   "source": [
    "Визуализируем наши сегменты."
   ]
  },
  {
   "cell_type": "code",
   "execution_count": 69,
   "metadata": {
    "pycharm": {
     "name": "#%%\n"
    }
   },
   "outputs": [
    {
     "data": {
      "image/png": "[encoded data removed]",
      "text/plain": [
       "<Figure size 1440x864 with 1 Axes>"
      ]
     },
     "metadata": {},
     "output_type": "display_data"
    }
   ],
   "source": [
    "sns.set(\n",
    "    font_scale = 1,\n",
    "    style      = \"whitegrid\",\n",
    "    rc         = {\"figure.figsize\": (20, 12)})\n",
    "\n",
    "segments_counts = rfm['RFM'].value_counts().sort_values(ascending=True)\n",
    "\n",
    "fig, ax = plt.subplots()\n",
    "\n",
    "bars = ax.barh(range(len(segments_counts)),\n",
    "               segments_counts, color='thistle')\n",
    "ax.set_frame_on(False)\n",
    "ax.tick_params(left=False)\n",
    "ax.set_yticks(range(len(segments_counts)))\n",
    "ax.set_yticklabels(segments_counts.index, size=20)\n",
    "\n",
    "plt.title('Распределение покупателей по кластерам', size=20)\n",
    "plt.yticks(size=20)\n",
    "plt.xticks(size=20)\n",
    "plt.xlabel('количество', fontsize=20)\n",
    "plt.ylabel('RFM', fontsize=20)\n",
    "\n",
    "for i, bar in enumerate(bars):\n",
    "    value = bar.get_width()\n",
    "    if segments_counts.index[i] in segments_counts.tail(9):\n",
    "        bar.set_color('#6c2b6d')\n",
    "    ax.text(value,\n",
    "            bar.get_y() + bar.get_height() / 2,\n",
    "            '{:,} ({:}%)'.format(int(value),\n",
    "                                 int(value * 100 / segments_counts.sum())),\n",
    "            va='center',\n",
    "            ha='left')\n",
    "\n",
    "sns.despine()\n",
    "plt.show()"
   ]
  },
  {
   "cell_type": "code",
   "execution_count": null,
   "outputs": [],
   "source": [
    "### Вывод"
   ],
   "metadata": {
    "collapsed": false,
    "pycharm": {
     "name": "#%%\n"
    }
   }
  },
  {
   "cell_type": "markdown",
   "metadata": {
    "pycharm": {
     "name": "#%% md\n"
    }
   },
   "source": [
    "Мы провели исследовательский анализ, чтобы понять природу на наших данных, оценили поведение покупателей. Обнаружили пропуски в данных и обработали те из них, которые были аномальные. Посмотрели, по каким причинам у нас не доставлются заказы и разобрали подробнее каждую из этих причин. \n",
    "\n",
    "Мы оценили динамику продаж наших пользователей и обнаружили, что большинство пользователей у нас совершили покупку один только раз. Это наблюдение нам подвтердил когортный анализ, где мы выявили чрезвычайно низкий retention для всех когорт.\n",
    "\n",
    "Мы выполнили RFM-анализ, где разбили распределили покупателей по кластерам. На последнем графике можно выделить 9 кластеров, к которым относится большинство наших пользователей. Для каждого класетера можно осуществить ряд мероприятий, которые могут простимулировать пользователей. Разберем подробнее каждый кластер из выявленных 9.\n",
    "\n",
    "* 112 Одноразовые, пользователи, которые совершили единожды покупку давно и потретили среднюю сумму.\n",
    "\n",
    "* 211 Спящие разовые с маленьким чеком, эти пользователи двигаются в сторону уходящих.\n",
    "\n",
    "* 111 Потерянные экономные, сделали покупку давно, один раз и с маленьким чеком.\n",
    "\n",
    "* 312 Новички со средним чеком, сделали одну покупку недавно на средний чек.\n",
    "\n",
    "* 311 Новички с маленьким чеком, сделали одну покупку недавно на маленький чек.\n",
    " \n",
    "* 113 Одноразовые, как и кластер 112, они сделали одну покупку давно, но на большой чек.\n",
    "\n",
    "* 313 Новички с высоким чеком, сделали одну покупку недавно на большой чек.\n",
    "\n",
    "* 212 Спящие разовые со среднем чеком. \n",
    "\n",
    "* 213 Спящие разовые с большим чеком.\n",
    "\n",
    "\n",
    "Для кластеров 112,111 и 113 не стоит тратить слишком больших усилий, так как пользователи уже ушли давно от нас и не были постоянными клиентами, можем отправить автоматическое уведомление о нас.<br>\n",
    "Пользователи 211, 213, 212 еще помнят о нас, можем попробовать расшевелить их стимулирующими акциями, отправлять им рассылки с интересными акциями и выгодными предложениями.<br>\n",
    "Для 312, 311 отправляем рассылки с описанием преимуществ и возможностей на нашей платформе.<br>\n",
    "313 самые ценные, если их заинтересовать, они могут перерасти в VIP клиентов, поэтому им рассылаем дополнительное предложение, чтобы удержать их."
   ]
  },
  {
   "cell_type": "code",
   "execution_count": null,
   "metadata": {
    "pycharm": {
     "name": "#%%\n"
    }
   },
   "outputs": [],
   "source": []
  }
 ],
 "metadata": {
  "kernelspec": {
   "display_name": "Python 3",
   "language": "python",
   "name": "python3"
  },
  "language_info": {
   "codemirror_mode": {
    "name": "ipython",
    "version": 3
   },
   "file_extension": ".py",
   "mimetype": "text/x-python",
   "name": "python",
   "nbconvert_exporter": "python",
   "pygments_lexer": "ipython3",
   "version": "3.7.3"
  }
 },
 "nbformat": 4,
 "nbformat_minor": 4
}